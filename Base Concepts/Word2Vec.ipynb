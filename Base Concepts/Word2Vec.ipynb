{
  "nbformat": 4,
  "nbformat_minor": 0,
  "metadata": {
    "colab": {
      "name": "Amazon_fine_food_reviews.ipynb",
      "provenance": [],
      "toc_visible": true,
      "mount_file_id": "1RpSDfMsX5SahhBbfr5UIa48ZtQ8KoKf-",
      "authorship_tag": "ABX9TyN00rO7PeLCL3PSw4tVh1Mq",
      "include_colab_link": true
    },
    "kernelspec": {
      "name": "python3",
      "display_name": "Python 3"
    }
  },
  "cells": [
    {
      "cell_type": "markdown",
      "metadata": {
        "id": "view-in-github",
        "colab_type": "text"
      },
      "source": [
        "<a href=\"https://colab.research.google.com/github/amritnaruto/Natural-Language-Processing/blob/master/Amazon_fine_food_reviews.ipynb\" target=\"_parent\"><img src=\"https://colab.research.google.com/assets/colab-badge.svg\" alt=\"Open In Colab\"/></a>"
      ]
    },
    {
      "cell_type": "markdown",
      "metadata": {
        "id": "swKrMotZzxws",
        "colab_type": "text"
      },
      "source": [
        "# Getting our data\n",
        "\n",
        "Amazon Fine Food Reviews\n",
        "\n",
        "copy $\\text{kaggle.json}$ into your google drive<br>\n",
        "or just copy it into the colab file space<br>\n",
        "which ever way you want.\n",
        "\n",
        "If you do not have this file,<br>\n",
        "go to your kaggle account<br>\n",
        "and $\\text{create new API token}$\n",
        "\n",
        "Follow along the commands,<br>\n",
        "you will understand what is gong on.."
      ]
    },
    {
      "cell_type": "code",
      "metadata": {
        "id": "QENUuWmqtElU",
        "colab_type": "code",
        "colab": {}
      },
      "source": [
        "!pip install -q kaggle\n",
        "!mkdir /root/.kaggle/"
      ],
      "execution_count": 1,
      "outputs": []
    },
    {
      "cell_type": "code",
      "metadata": {
        "id": "reP45r0ZNkpy",
        "colab_type": "code",
        "colab": {}
      },
      "source": [
        "!cp /content/drive/My\\ Drive/Datasets/kaggle.json /root/.kaggle/\n",
        "\n",
        "# !cp < kaggle.json file path> /root/.kaggle"
      ],
      "execution_count": 2,
      "outputs": []
    },
    {
      "cell_type": "markdown",
      "metadata": {
        "id": "wVLq5YCy14Te",
        "colab_type": "text"
      },
      "source": [
        "In the dataset page of Amazon Fine Food Reviews,<br>\n",
        "beside the 'New Notebook' button<br>\n",
        "click the options (three dots) and<br>\n",
        "select 'Copy API Command'<br>\n",
        "\n",
        "incase kaggle changes the layout, the option for api command would still be there somewhere."
      ]
    },
    {
      "cell_type": "code",
      "metadata": {
        "id": "1gyr_NCpwjU8",
        "colab_type": "code",
        "colab": {
          "base_uri": "https://localhost:8080/",
          "height": 69
        },
        "outputId": "0e3252b4-b3b7-4c02-c78f-282e8b53acec"
      },
      "source": [
        "!kaggle datasets download -d snap/amazon-fine-food-reviews"
      ],
      "execution_count": 3,
      "outputs": [
        {
          "output_type": "stream",
          "text": [
            "Downloading amazon-fine-food-reviews.zip to /content\n",
            "100% 242M/242M [00:02<00:00, 163MB/s]\n",
            "100% 242M/242M [00:02<00:00, 112MB/s]\n"
          ],
          "name": "stdout"
        }
      ]
    },
    {
      "cell_type": "code",
      "metadata": {
        "id": "oKwaQ_iVy_Wr",
        "colab_type": "code",
        "colab": {
          "base_uri": "https://localhost:8080/",
          "height": 86
        },
        "outputId": "b481b948-562f-40d6-dddc-8496cd3110e1"
      },
      "source": [
        "!unzip amazon-fine-food-reviews.zip"
      ],
      "execution_count": 4,
      "outputs": [
        {
          "output_type": "stream",
          "text": [
            "Archive:  amazon-fine-food-reviews.zip\n",
            "  inflating: Reviews.csv             \n",
            "  inflating: database.sqlite         \n",
            "  inflating: hashes.txt              \n"
          ],
          "name": "stdout"
        }
      ]
    },
    {
      "cell_type": "markdown",
      "metadata": {
        "id": "7mTMXfj6c_fJ",
        "colab_type": "text"
      },
      "source": [
        "And we have our data"
      ]
    },
    {
      "cell_type": "code",
      "metadata": {
        "id": "cD7DT89jdVU7",
        "colab_type": "code",
        "colab": {}
      },
      "source": [
        "import pandas as pd\n",
        "import numpy as np\n",
        "\n",
        "from sklearn.model_selection import train_test_split\n",
        "from sklearn.linear_model import LogisticRegressionCV\n",
        "from sklearn.metrics import accuracy_score, log_loss\n",
        "\n",
        "from gensim.parsing.preprocessing import remove_stopwords\n",
        "from gensim.utils import simple_preprocess\n",
        "from gensim.parsing.porter import PorterStemmer\n",
        "from gensim.models import Word2Vec"
      ],
      "execution_count": 5,
      "outputs": []
    },
    {
      "cell_type": "markdown",
      "metadata": {
        "id": "w3URD-f1dCMY",
        "colab_type": "text"
      },
      "source": [
        "# Data preparation\n",
        "\n",
        "We will work on simply classifying the each reviews as positive or negative based on the scores.\n",
        "\n",
        "So we will only need the reviews column and the score column"
      ]
    },
    {
      "cell_type": "markdown",
      "metadata": {
        "id": "Ecy4IGArd6Af",
        "colab_type": "text"
      },
      "source": [
        "## Let's take a look at the entire dataset"
      ]
    },
    {
      "cell_type": "code",
      "metadata": {
        "id": "Vpb1OSS34d6i",
        "colab_type": "code",
        "colab": {
          "base_uri": "https://localhost:8080/",
          "height": 678
        },
        "outputId": "3fca6dec-3f87-48fb-b5d9-066a89649f8c"
      },
      "source": [
        "reviews_log = pd.read_csv('Reviews.csv')\n",
        "reviews_log.head()"
      ],
      "execution_count": 6,
      "outputs": [
        {
          "output_type": "execute_result",
          "data": {
            "text/html": [
              "<div>\n",
              "<style scoped>\n",
              "    .dataframe tbody tr th:only-of-type {\n",
              "        vertical-align: middle;\n",
              "    }\n",
              "\n",
              "    .dataframe tbody tr th {\n",
              "        vertical-align: top;\n",
              "    }\n",
              "\n",
              "    .dataframe thead th {\n",
              "        text-align: right;\n",
              "    }\n",
              "</style>\n",
              "<table border=\"1\" class=\"dataframe\">\n",
              "  <thead>\n",
              "    <tr style=\"text-align: right;\">\n",
              "      <th></th>\n",
              "      <th>Id</th>\n",
              "      <th>ProductId</th>\n",
              "      <th>UserId</th>\n",
              "      <th>ProfileName</th>\n",
              "      <th>HelpfulnessNumerator</th>\n",
              "      <th>HelpfulnessDenominator</th>\n",
              "      <th>Score</th>\n",
              "      <th>Time</th>\n",
              "      <th>Summary</th>\n",
              "      <th>Text</th>\n",
              "    </tr>\n",
              "  </thead>\n",
              "  <tbody>\n",
              "    <tr>\n",
              "      <th>0</th>\n",
              "      <td>1</td>\n",
              "      <td>B001E4KFG0</td>\n",
              "      <td>A3SGXH7AUHU8GW</td>\n",
              "      <td>delmartian</td>\n",
              "      <td>1</td>\n",
              "      <td>1</td>\n",
              "      <td>5</td>\n",
              "      <td>1303862400</td>\n",
              "      <td>Good Quality Dog Food</td>\n",
              "      <td>I have bought several of the Vitality canned d...</td>\n",
              "    </tr>\n",
              "    <tr>\n",
              "      <th>1</th>\n",
              "      <td>2</td>\n",
              "      <td>B00813GRG4</td>\n",
              "      <td>A1D87F6ZCVE5NK</td>\n",
              "      <td>dll pa</td>\n",
              "      <td>0</td>\n",
              "      <td>0</td>\n",
              "      <td>1</td>\n",
              "      <td>1346976000</td>\n",
              "      <td>Not as Advertised</td>\n",
              "      <td>Product arrived labeled as Jumbo Salted Peanut...</td>\n",
              "    </tr>\n",
              "    <tr>\n",
              "      <th>2</th>\n",
              "      <td>3</td>\n",
              "      <td>B000LQOCH0</td>\n",
              "      <td>ABXLMWJIXXAIN</td>\n",
              "      <td>Natalia Corres \"Natalia Corres\"</td>\n",
              "      <td>1</td>\n",
              "      <td>1</td>\n",
              "      <td>4</td>\n",
              "      <td>1219017600</td>\n",
              "      <td>\"Delight\" says it all</td>\n",
              "      <td>This is a confection that has been around a fe...</td>\n",
              "    </tr>\n",
              "    <tr>\n",
              "      <th>3</th>\n",
              "      <td>4</td>\n",
              "      <td>B000UA0QIQ</td>\n",
              "      <td>A395BORC6FGVXV</td>\n",
              "      <td>Karl</td>\n",
              "      <td>3</td>\n",
              "      <td>3</td>\n",
              "      <td>2</td>\n",
              "      <td>1307923200</td>\n",
              "      <td>Cough Medicine</td>\n",
              "      <td>If you are looking for the secret ingredient i...</td>\n",
              "    </tr>\n",
              "    <tr>\n",
              "      <th>4</th>\n",
              "      <td>5</td>\n",
              "      <td>B006K2ZZ7K</td>\n",
              "      <td>A1UQRSCLF8GW1T</td>\n",
              "      <td>Michael D. Bigham \"M. Wassir\"</td>\n",
              "      <td>0</td>\n",
              "      <td>0</td>\n",
              "      <td>5</td>\n",
              "      <td>1350777600</td>\n",
              "      <td>Great taffy</td>\n",
              "      <td>Great taffy at a great price.  There was a wid...</td>\n",
              "    </tr>\n",
              "  </tbody>\n",
              "</table>\n",
              "</div>"
            ],
            "text/plain": [
              "   Id  ...                                               Text\n",
              "0   1  ...  I have bought several of the Vitality canned d...\n",
              "1   2  ...  Product arrived labeled as Jumbo Salted Peanut...\n",
              "2   3  ...  This is a confection that has been around a fe...\n",
              "3   4  ...  If you are looking for the secret ingredient i...\n",
              "4   5  ...  Great taffy at a great price.  There was a wid...\n",
              "\n",
              "[5 rows x 10 columns]"
            ]
          },
          "metadata": {
            "tags": []
          },
          "execution_count": 6
        }
      ]
    },
    {
      "cell_type": "markdown",
      "metadata": {
        "id": "vrFZa4NYdmkH",
        "colab_type": "text"
      },
      "source": [
        "Let's look at a review.."
      ]
    },
    {
      "cell_type": "code",
      "metadata": {
        "id": "3YOoPMUy4xaC",
        "colab_type": "code",
        "colab": {
          "base_uri": "https://localhost:8080/",
          "height": 70
        },
        "outputId": "47a4337d-7214-4843-9a90-791c6afcd665"
      },
      "source": [
        "reviews_log.iloc[0,-1]"
      ],
      "execution_count": 7,
      "outputs": [
        {
          "output_type": "execute_result",
          "data": {
            "application/vnd.google.colaboratory.intrinsic+json": {
              "type": "string"
            },
            "text/plain": [
              "'I have bought several of the Vitality canned dog food products and have found them all to be of good quality. The product looks more like a stew than a processed meat and it smells better. My Labrador is finicky and she appreciates this product better than  most.'"
            ]
          },
          "metadata": {
            "tags": []
          },
          "execution_count": 7
        }
      ]
    },
    {
      "cell_type": "markdown",
      "metadata": {
        "id": "Dy8uyMHHdrOQ",
        "colab_type": "text"
      },
      "source": [
        "How does the score column look like?.."
      ]
    },
    {
      "cell_type": "code",
      "metadata": {
        "id": "WN39WNoCO9pA",
        "colab_type": "code",
        "colab": {
          "base_uri": "https://localhost:8080/",
          "height": 225
        },
        "outputId": "c50beeb8-636b-4f26-934c-305ad94ccb52"
      },
      "source": [
        "reviews_log['Score']"
      ],
      "execution_count": 8,
      "outputs": [
        {
          "output_type": "execute_result",
          "data": {
            "text/plain": [
              "0         5\n",
              "1         1\n",
              "2         4\n",
              "3         2\n",
              "4         5\n",
              "         ..\n",
              "568449    5\n",
              "568450    2\n",
              "568451    5\n",
              "568452    5\n",
              "568453    5\n",
              "Name: Score, Length: 568454, dtype: int64"
            ]
          },
          "metadata": {
            "tags": []
          },
          "execution_count": 8
        }
      ]
    },
    {
      "cell_type": "markdown",
      "metadata": {
        "id": "26RTpGvBdwBN",
        "colab_type": "text"
      },
      "source": [
        "## Taking out Reviews and Score into a separate dataframe"
      ]
    },
    {
      "cell_type": "markdown",
      "metadata": {
        "id": "eAWqBvJ0eAKF",
        "colab_type": "text"
      },
      "source": [
        "Now since this is a binary classification: positive, negative<br>\n",
        "\n",
        "scores above 3 will be considered positive and ones below 3 as negative.. obviously..!!\n"
      ]
    },
    {
      "cell_type": "markdown",
      "metadata": {
        "id": "-hBQgET0eYmL",
        "colab_type": "text"
      },
      "source": [
        "First drop the columns with score of 3.. we won't need them"
      ]
    },
    {
      "cell_type": "code",
      "metadata": {
        "id": "ChYM96wCPYtQ",
        "colab_type": "code",
        "colab": {}
      },
      "source": [
        "reviews_log.drop( reviews_log[reviews_log['Score'] == 3].index, inplace=True )"
      ],
      "execution_count": 9,
      "outputs": []
    },
    {
      "cell_type": "markdown",
      "metadata": {
        "id": "CqYEulO7efEo",
        "colab_type": "text"
      },
      "source": [
        "Converting score to 1s (for positive) and 0s (for negative)"
      ]
    },
    {
      "cell_type": "code",
      "metadata": {
        "id": "FL56IlNtQ5jG",
        "colab_type": "code",
        "colab": {}
      },
      "source": [
        "reviews_log['Score'] = reviews_log['Score'].apply(lambda x: 1 if x > 3 else 0)"
      ],
      "execution_count": 10,
      "outputs": []
    },
    {
      "cell_type": "markdown",
      "metadata": {
        "id": "ct5n3JXKevK7",
        "colab_type": "text"
      },
      "source": [
        "Now we create the dataset on which we will work"
      ]
    },
    {
      "cell_type": "code",
      "metadata": {
        "id": "2H-CmIG2Ru6g",
        "colab_type": "code",
        "colab": {
          "base_uri": "https://localhost:8080/",
          "height": 206
        },
        "outputId": "27be00c1-51d8-46e6-f996-a088f09ed463"
      },
      "source": [
        "dataset = pd.DataFrame({'review': [], 'sentiment': []})\n",
        "dataset['review'] = reviews_log['Text']\n",
        "dataset['sentiment'] = reviews_log['Score']\n",
        "\n",
        "dataset.head()"
      ],
      "execution_count": 11,
      "outputs": [
        {
          "output_type": "execute_result",
          "data": {
            "text/html": [
              "<div>\n",
              "<style scoped>\n",
              "    .dataframe tbody tr th:only-of-type {\n",
              "        vertical-align: middle;\n",
              "    }\n",
              "\n",
              "    .dataframe tbody tr th {\n",
              "        vertical-align: top;\n",
              "    }\n",
              "\n",
              "    .dataframe thead th {\n",
              "        text-align: right;\n",
              "    }\n",
              "</style>\n",
              "<table border=\"1\" class=\"dataframe\">\n",
              "  <thead>\n",
              "    <tr style=\"text-align: right;\">\n",
              "      <th></th>\n",
              "      <th>review</th>\n",
              "      <th>sentiment</th>\n",
              "    </tr>\n",
              "  </thead>\n",
              "  <tbody>\n",
              "    <tr>\n",
              "      <th>0</th>\n",
              "      <td>I have bought several of the Vitality canned d...</td>\n",
              "      <td>1</td>\n",
              "    </tr>\n",
              "    <tr>\n",
              "      <th>1</th>\n",
              "      <td>Product arrived labeled as Jumbo Salted Peanut...</td>\n",
              "      <td>0</td>\n",
              "    </tr>\n",
              "    <tr>\n",
              "      <th>2</th>\n",
              "      <td>This is a confection that has been around a fe...</td>\n",
              "      <td>1</td>\n",
              "    </tr>\n",
              "    <tr>\n",
              "      <th>3</th>\n",
              "      <td>If you are looking for the secret ingredient i...</td>\n",
              "      <td>0</td>\n",
              "    </tr>\n",
              "    <tr>\n",
              "      <th>4</th>\n",
              "      <td>Great taffy at a great price.  There was a wid...</td>\n",
              "      <td>1</td>\n",
              "    </tr>\n",
              "  </tbody>\n",
              "</table>\n",
              "</div>"
            ],
            "text/plain": [
              "                                              review  sentiment\n",
              "0  I have bought several of the Vitality canned d...          1\n",
              "1  Product arrived labeled as Jumbo Salted Peanut...          0\n",
              "2  This is a confection that has been around a fe...          1\n",
              "3  If you are looking for the secret ingredient i...          0\n",
              "4  Great taffy at a great price.  There was a wid...          1"
            ]
          },
          "metadata": {
            "tags": []
          },
          "execution_count": 11
        }
      ]
    },
    {
      "cell_type": "markdown",
      "metadata": {
        "id": "dmWWm0w9eza9",
        "colab_type": "text"
      },
      "source": [
        "## Converting text to numbers\n",
        "\n",
        "More specifically convert words to vectors."
      ]
    },
    {
      "cell_type": "markdown",
      "metadata": {
        "id": "NdWxQiZVe-8I",
        "colab_type": "text"
      },
      "source": [
        "But before that, we need to clean our text\n",
        "\n",
        "gensim provides all the necessary functions..."
      ]
    },
    {
      "cell_type": "code",
      "metadata": {
        "id": "amvfMMtbUoKx",
        "colab_type": "code",
        "colab": {
          "base_uri": "https://localhost:8080/",
          "height": 206
        },
        "outputId": "e813b6c0-0ef0-4681-9ed0-66946398f58f"
      },
      "source": [
        "dataset['review'] = dataset['review'].apply(remove_stopwords)\n",
        "\n",
        "dataset.head()"
      ],
      "execution_count": 12,
      "outputs": [
        {
          "output_type": "execute_result",
          "data": {
            "text/html": [
              "<div>\n",
              "<style scoped>\n",
              "    .dataframe tbody tr th:only-of-type {\n",
              "        vertical-align: middle;\n",
              "    }\n",
              "\n",
              "    .dataframe tbody tr th {\n",
              "        vertical-align: top;\n",
              "    }\n",
              "\n",
              "    .dataframe thead th {\n",
              "        text-align: right;\n",
              "    }\n",
              "</style>\n",
              "<table border=\"1\" class=\"dataframe\">\n",
              "  <thead>\n",
              "    <tr style=\"text-align: right;\">\n",
              "      <th></th>\n",
              "      <th>review</th>\n",
              "      <th>sentiment</th>\n",
              "    </tr>\n",
              "  </thead>\n",
              "  <tbody>\n",
              "    <tr>\n",
              "      <th>0</th>\n",
              "      <td>I bought Vitality canned dog food products goo...</td>\n",
              "      <td>1</td>\n",
              "    </tr>\n",
              "    <tr>\n",
              "      <th>1</th>\n",
              "      <td>Product arrived labeled Jumbo Salted Peanuts.....</td>\n",
              "      <td>0</td>\n",
              "    </tr>\n",
              "    <tr>\n",
              "      <th>2</th>\n",
              "      <td>This confection centuries. It light, pillowy c...</td>\n",
              "      <td>1</td>\n",
              "    </tr>\n",
              "    <tr>\n",
              "      <th>3</th>\n",
              "      <td>If looking secret ingredient Robitussin I beli...</td>\n",
              "      <td>0</td>\n",
              "    </tr>\n",
              "    <tr>\n",
              "      <th>4</th>\n",
              "      <td>Great taffy great price. There wide assortment...</td>\n",
              "      <td>1</td>\n",
              "    </tr>\n",
              "  </tbody>\n",
              "</table>\n",
              "</div>"
            ],
            "text/plain": [
              "                                              review  sentiment\n",
              "0  I bought Vitality canned dog food products goo...          1\n",
              "1  Product arrived labeled Jumbo Salted Peanuts.....          0\n",
              "2  This confection centuries. It light, pillowy c...          1\n",
              "3  If looking secret ingredient Robitussin I beli...          0\n",
              "4  Great taffy great price. There wide assortment...          1"
            ]
          },
          "metadata": {
            "tags": []
          },
          "execution_count": 12
        }
      ]
    },
    {
      "cell_type": "markdown",
      "metadata": {
        "id": "NLooa0M6fLY3",
        "colab_type": "text"
      },
      "source": [
        "gensim's simple_preprocess() tokenizes each review into a list of words<br>\n",
        "\n",
        "It also removes punctuation marks"
      ]
    },
    {
      "cell_type": "code",
      "metadata": {
        "id": "46cYVgwIVl4G",
        "colab_type": "code",
        "colab": {
          "base_uri": "https://localhost:8080/",
          "height": 206
        },
        "outputId": "5e2a1c76-b3bf-4c4e-caa6-5e18c430a552"
      },
      "source": [
        "dataset['review'] = dataset['review'].apply(simple_preprocess)\n",
        "\n",
        "dataset.head()"
      ],
      "execution_count": 13,
      "outputs": [
        {
          "output_type": "execute_result",
          "data": {
            "text/html": [
              "<div>\n",
              "<style scoped>\n",
              "    .dataframe tbody tr th:only-of-type {\n",
              "        vertical-align: middle;\n",
              "    }\n",
              "\n",
              "    .dataframe tbody tr th {\n",
              "        vertical-align: top;\n",
              "    }\n",
              "\n",
              "    .dataframe thead th {\n",
              "        text-align: right;\n",
              "    }\n",
              "</style>\n",
              "<table border=\"1\" class=\"dataframe\">\n",
              "  <thead>\n",
              "    <tr style=\"text-align: right;\">\n",
              "      <th></th>\n",
              "      <th>review</th>\n",
              "      <th>sentiment</th>\n",
              "    </tr>\n",
              "  </thead>\n",
              "  <tbody>\n",
              "    <tr>\n",
              "      <th>0</th>\n",
              "      <td>[bought, vitality, canned, dog, food, products...</td>\n",
              "      <td>1</td>\n",
              "    </tr>\n",
              "    <tr>\n",
              "      <th>1</th>\n",
              "      <td>[product, arrived, labeled, jumbo, salted, pea...</td>\n",
              "      <td>0</td>\n",
              "    </tr>\n",
              "    <tr>\n",
              "      <th>2</th>\n",
              "      <td>[this, confection, centuries, it, light, pillo...</td>\n",
              "      <td>1</td>\n",
              "    </tr>\n",
              "    <tr>\n",
              "      <th>3</th>\n",
              "      <td>[if, looking, secret, ingredient, robitussin, ...</td>\n",
              "      <td>0</td>\n",
              "    </tr>\n",
              "    <tr>\n",
              "      <th>4</th>\n",
              "      <td>[great, taffy, great, price, there, wide, asso...</td>\n",
              "      <td>1</td>\n",
              "    </tr>\n",
              "  </tbody>\n",
              "</table>\n",
              "</div>"
            ],
            "text/plain": [
              "                                              review  sentiment\n",
              "0  [bought, vitality, canned, dog, food, products...          1\n",
              "1  [product, arrived, labeled, jumbo, salted, pea...          0\n",
              "2  [this, confection, centuries, it, light, pillo...          1\n",
              "3  [if, looking, secret, ingredient, robitussin, ...          0\n",
              "4  [great, taffy, great, price, there, wide, asso...          1"
            ]
          },
          "metadata": {
            "tags": []
          },
          "execution_count": 13
        }
      ]
    },
    {
      "cell_type": "markdown",
      "metadata": {
        "id": "e_jem5D8fcEG",
        "colab_type": "text"
      },
      "source": [
        "Stemming"
      ]
    },
    {
      "cell_type": "code",
      "metadata": {
        "id": "xa4HzZPSV6_M",
        "colab_type": "code",
        "colab": {
          "base_uri": "https://localhost:8080/",
          "height": 206
        },
        "outputId": "fc443bb9-9786-483d-e331-05609d650b24"
      },
      "source": [
        "dataset['review'] = dataset['review'].apply(lambda x: [PorterStemmer().stem(w) for w in x] )\n",
        "\n",
        "dataset.head()"
      ],
      "execution_count": 14,
      "outputs": [
        {
          "output_type": "execute_result",
          "data": {
            "text/html": [
              "<div>\n",
              "<style scoped>\n",
              "    .dataframe tbody tr th:only-of-type {\n",
              "        vertical-align: middle;\n",
              "    }\n",
              "\n",
              "    .dataframe tbody tr th {\n",
              "        vertical-align: top;\n",
              "    }\n",
              "\n",
              "    .dataframe thead th {\n",
              "        text-align: right;\n",
              "    }\n",
              "</style>\n",
              "<table border=\"1\" class=\"dataframe\">\n",
              "  <thead>\n",
              "    <tr style=\"text-align: right;\">\n",
              "      <th></th>\n",
              "      <th>review</th>\n",
              "      <th>sentiment</th>\n",
              "    </tr>\n",
              "  </thead>\n",
              "  <tbody>\n",
              "    <tr>\n",
              "      <th>0</th>\n",
              "      <td>[bought, vital, can, dog, food, product, good,...</td>\n",
              "      <td>1</td>\n",
              "    </tr>\n",
              "    <tr>\n",
              "      <th>1</th>\n",
              "      <td>[product, arriv, label, jumbo, salt, peanut, t...</td>\n",
              "      <td>0</td>\n",
              "    </tr>\n",
              "    <tr>\n",
              "      <th>2</th>\n",
              "      <td>[thi, confect, centuri, it, light, pillowi, ci...</td>\n",
              "      <td>1</td>\n",
              "    </tr>\n",
              "    <tr>\n",
              "      <th>3</th>\n",
              "      <td>[if, look, secret, ingredi, robitussin, believ...</td>\n",
              "      <td>0</td>\n",
              "    </tr>\n",
              "    <tr>\n",
              "      <th>4</th>\n",
              "      <td>[great, taffi, great, price, there, wide, asso...</td>\n",
              "      <td>1</td>\n",
              "    </tr>\n",
              "  </tbody>\n",
              "</table>\n",
              "</div>"
            ],
            "text/plain": [
              "                                              review  sentiment\n",
              "0  [bought, vital, can, dog, food, product, good,...          1\n",
              "1  [product, arriv, label, jumbo, salt, peanut, t...          0\n",
              "2  [thi, confect, centuri, it, light, pillowi, ci...          1\n",
              "3  [if, look, secret, ingredi, robitussin, believ...          0\n",
              "4  [great, taffi, great, price, there, wide, asso...          1"
            ]
          },
          "metadata": {
            "tags": []
          },
          "execution_count": 14
        }
      ]
    },
    {
      "cell_type": "markdown",
      "metadata": {
        "id": "wNL2OBjPffom",
        "colab_type": "text"
      },
      "source": [
        "As you can observe PorterStemmer didn't do that well..\n",
        "\n",
        "It converted 'this' to 'thi',<br>\n",
        "'arrives' to 'arriv', etc.\n",
        "\n",
        "You can use gensim's or nltk's lemmatize instead."
      ]
    },
    {
      "cell_type": "markdown",
      "metadata": {
        "id": "rk0WD79lf2U6",
        "colab_type": "text"
      },
      "source": [
        "Before we apply Word2Vec,<br>\n",
        "it is necessary that we split the dataset now to train and test set<br>\n",
        "to avoid information leak into our unobserved data "
      ]
    },
    {
      "cell_type": "code",
      "metadata": {
        "id": "UX3O3KIBSlH3",
        "colab_type": "code",
        "colab": {
          "base_uri": "https://localhost:8080/",
          "height": 52
        },
        "outputId": "345b3598-8694-4fa9-cef1-6f4e15a6d0bb"
      },
      "source": [
        "train_text, test_text, y_train, y_test = train_test_split(dataset['review'],\n",
        "                                                    dataset['sentiment'],\n",
        "                                                    stratify = dataset['sentiment'],\n",
        "                                                    random_state=0)\n",
        "\n",
        "print(train_text.shape)\n",
        "print(test_text.shape)"
      ],
      "execution_count": 15,
      "outputs": [
        {
          "output_type": "stream",
          "text": [
            "(394360,)\n",
            "(131454,)\n"
          ],
          "name": "stdout"
        }
      ]
    },
    {
      "cell_type": "markdown",
      "metadata": {
        "id": "RwuDKitrgMOJ",
        "colab_type": "text"
      },
      "source": [
        "Now we apply...\n",
        "\n",
        "**min_count** sets the minimum count for each word necessary to be considered. If a word's occurance is less than min_count, then that word will not be vectorized. We will set that to 1. meh..\n",
        "\n",
        "**size** is the dimensionality of the vector.\n",
        "\n",
        "**window** sets the size of context.\n",
        "\n",
        "**sg**: 0 for using CBOW, and 1 for Skip-gram"
      ]
    },
    {
      "cell_type": "code",
      "metadata": {
        "id": "R0GA9UJj6I9W",
        "colab_type": "code",
        "colab": {
          "base_uri": "https://localhost:8080/",
          "height": 34
        },
        "outputId": "8569a819-c7c7-4b31-fa1b-1f115c656784"
      },
      "source": [
        "w2v_model = Word2Vec(train_text, min_count=1,\n",
        "               size = 100, workers=3,\n",
        "               window=3, sg=1)\n",
        "\n",
        "w2v_model"
      ],
      "execution_count": 16,
      "outputs": [
        {
          "output_type": "execute_result",
          "data": {
            "text/plain": [
              "<gensim.models.word2vec.Word2Vec at 0x7f00b9fbae80>"
            ]
          },
          "metadata": {
            "tags": []
          },
          "execution_count": 16
        }
      ]
    },
    {
      "cell_type": "markdown",
      "metadata": {
        "id": "FjVkGeyVOxJ-",
        "colab_type": "text"
      },
      "source": [
        "## Final prep"
      ]
    },
    {
      "cell_type": "markdown",
      "metadata": {
        "id": "wWkDrFAdgW-t",
        "colab_type": "text"
      },
      "source": [
        "our word2vec model is trained, and now we convert."
      ]
    },
    {
      "cell_type": "code",
      "metadata": {
        "id": "_aXASM5SiXvp",
        "colab_type": "code",
        "colab": {
          "base_uri": "https://localhost:8080/",
          "height": 315
        },
        "outputId": "bf2352e2-4505-43cc-b5a8-d367b7c8deab"
      },
      "source": [
        "temp = train_text.apply(lambda x: np.mean([ w2v_model[token] for token in x ],\n",
        "                                          axis=0))\n",
        "\n",
        "temp"
      ],
      "execution_count": 17,
      "outputs": [
        {
          "output_type": "stream",
          "text": [
            "/usr/local/lib/python3.6/dist-packages/ipykernel_launcher.py:1: DeprecationWarning: Call to deprecated `__getitem__` (Method will be removed in 4.0.0, use self.wv.__getitem__() instead).\n",
            "  \"\"\"Entry point for launching an IPython kernel.\n",
            "/usr/local/lib/python3.6/dist-packages/numpy/core/fromnumeric.py:3335: RuntimeWarning: Mean of empty slice.\n",
            "  out=out, **kwargs)\n"
          ],
          "name": "stderr"
        },
        {
          "output_type": "execute_result",
          "data": {
            "text/plain": [
              "323249    [0.25243348, 0.21213992, 0.032568213, -0.23740...\n",
              "342801    [0.30880803, 0.024606204, -0.121111214, -0.008...\n",
              "164441    [0.3022396, 0.085057326, -0.13120477, -0.08813...\n",
              "423976    [0.18207915, 0.24881898, -0.15377955, -0.05449...\n",
              "229980    [0.33945492, -0.14384131, 0.01150136, -0.05900...\n",
              "                                ...                        \n",
              "484657    [0.32042098, 0.008284028, -0.14173505, -0.1953...\n",
              "154976    [0.23416626, -0.033135507, -0.106669135, -0.12...\n",
              "363974    [0.2624597, -0.09991959, 0.030970657, 0.036036...\n",
              "357675    [0.27868813, 0.0098297, -0.012811714, -0.15416...\n",
              "443959    [0.3356177, 0.063156694, -0.2243333, -0.067290...\n",
              "Name: review, Length: 394360, dtype: object"
            ]
          },
          "metadata": {
            "tags": []
          },
          "execution_count": 17
        }
      ]
    },
    {
      "cell_type": "markdown",
      "metadata": {
        "id": "I-QDn-n5geTB",
        "colab_type": "text"
      },
      "source": [
        "If you observe, this is a series..\n",
        "\n",
        "A series with each element being a list of values..\n",
        "\n",
        "We don't want this..<br> \n",
        "rather we want it to be a dataframe with multiple columns"
      ]
    },
    {
      "cell_type": "markdown",
      "metadata": {
        "id": "OLOGczSwg16y",
        "colab_type": "text"
      },
      "source": [
        "First lets remove any nan values"
      ]
    },
    {
      "cell_type": "code",
      "metadata": {
        "id": "Vn6eG7ZjZJRo",
        "colab_type": "code",
        "colab": {
          "base_uri": "https://localhost:8080/",
          "height": 173
        },
        "outputId": "23962dc5-f843-4dd4-8f54-9b82556291a5"
      },
      "source": [
        "temp[temp.isna()]"
      ],
      "execution_count": 18,
      "outputs": [
        {
          "output_type": "execute_result",
          "data": {
            "text/plain": [
              "299605    NaN\n",
              "378643    NaN\n",
              "544869    NaN\n",
              "233938    NaN\n",
              "324249    NaN\n",
              "388831    NaN\n",
              "487863    NaN\n",
              "188001    NaN\n",
              "Name: review, dtype: object"
            ]
          },
          "metadata": {
            "tags": []
          },
          "execution_count": 18
        }
      ]
    },
    {
      "cell_type": "code",
      "metadata": {
        "id": "rE6ZXradYCI4",
        "colab_type": "code",
        "colab": {}
      },
      "source": [
        "v = np.mean(temp)\n",
        "for i in temp[temp.isna()].index:\n",
        "    temp.loc[i] = v"
      ],
      "execution_count": 19,
      "outputs": []
    },
    {
      "cell_type": "code",
      "metadata": {
        "id": "X25QVeHzYvWh",
        "colab_type": "code",
        "colab": {
          "base_uri": "https://localhost:8080/",
          "height": 34
        },
        "outputId": "e3fa7433-357f-4a56-d3d7-4d9d9b4f9b3f"
      },
      "source": [
        "temp[temp.isna()]"
      ],
      "execution_count": 20,
      "outputs": [
        {
          "output_type": "execute_result",
          "data": {
            "text/plain": [
              "Series([], Name: review, dtype: object)"
            ]
          },
          "metadata": {
            "tags": []
          },
          "execution_count": 20
        }
      ]
    },
    {
      "cell_type": "markdown",
      "metadata": {
        "id": "tCZ0FzEeiwRi",
        "colab_type": "text"
      },
      "source": [
        "Now we convert the given series into our prefered dataframe"
      ]
    },
    {
      "cell_type": "code",
      "metadata": {
        "id": "vpkYOv5z4mA8",
        "colab_type": "code",
        "colab": {}
      },
      "source": [
        "X_train = pd.DataFrame.from_dict( dict(zip(temp.index, temp.values)),\n",
        "                                 orient='index')"
      ],
      "execution_count": 21,
      "outputs": []
    },
    {
      "cell_type": "code",
      "metadata": {
        "id": "_c_rv3Sug8-A",
        "colab_type": "code",
        "colab": {
          "base_uri": "https://localhost:8080/",
          "height": 256
        },
        "outputId": "4e7fbab0-eadf-432c-b555-4d55e3805997"
      },
      "source": [
        "X_train.head()"
      ],
      "execution_count": 22,
      "outputs": [
        {
          "output_type": "execute_result",
          "data": {
            "text/html": [
              "<div>\n",
              "<style scoped>\n",
              "    .dataframe tbody tr th:only-of-type {\n",
              "        vertical-align: middle;\n",
              "    }\n",
              "\n",
              "    .dataframe tbody tr th {\n",
              "        vertical-align: top;\n",
              "    }\n",
              "\n",
              "    .dataframe thead th {\n",
              "        text-align: right;\n",
              "    }\n",
              "</style>\n",
              "<table border=\"1\" class=\"dataframe\">\n",
              "  <thead>\n",
              "    <tr style=\"text-align: right;\">\n",
              "      <th></th>\n",
              "      <th>0</th>\n",
              "      <th>1</th>\n",
              "      <th>2</th>\n",
              "      <th>3</th>\n",
              "      <th>4</th>\n",
              "      <th>5</th>\n",
              "      <th>6</th>\n",
              "      <th>7</th>\n",
              "      <th>8</th>\n",
              "      <th>9</th>\n",
              "      <th>10</th>\n",
              "      <th>11</th>\n",
              "      <th>12</th>\n",
              "      <th>13</th>\n",
              "      <th>14</th>\n",
              "      <th>15</th>\n",
              "      <th>16</th>\n",
              "      <th>17</th>\n",
              "      <th>18</th>\n",
              "      <th>19</th>\n",
              "      <th>20</th>\n",
              "      <th>21</th>\n",
              "      <th>22</th>\n",
              "      <th>23</th>\n",
              "      <th>24</th>\n",
              "      <th>25</th>\n",
              "      <th>26</th>\n",
              "      <th>27</th>\n",
              "      <th>28</th>\n",
              "      <th>29</th>\n",
              "      <th>30</th>\n",
              "      <th>31</th>\n",
              "      <th>32</th>\n",
              "      <th>33</th>\n",
              "      <th>34</th>\n",
              "      <th>35</th>\n",
              "      <th>36</th>\n",
              "      <th>37</th>\n",
              "      <th>38</th>\n",
              "      <th>39</th>\n",
              "      <th>...</th>\n",
              "      <th>60</th>\n",
              "      <th>61</th>\n",
              "      <th>62</th>\n",
              "      <th>63</th>\n",
              "      <th>64</th>\n",
              "      <th>65</th>\n",
              "      <th>66</th>\n",
              "      <th>67</th>\n",
              "      <th>68</th>\n",
              "      <th>69</th>\n",
              "      <th>70</th>\n",
              "      <th>71</th>\n",
              "      <th>72</th>\n",
              "      <th>73</th>\n",
              "      <th>74</th>\n",
              "      <th>75</th>\n",
              "      <th>76</th>\n",
              "      <th>77</th>\n",
              "      <th>78</th>\n",
              "      <th>79</th>\n",
              "      <th>80</th>\n",
              "      <th>81</th>\n",
              "      <th>82</th>\n",
              "      <th>83</th>\n",
              "      <th>84</th>\n",
              "      <th>85</th>\n",
              "      <th>86</th>\n",
              "      <th>87</th>\n",
              "      <th>88</th>\n",
              "      <th>89</th>\n",
              "      <th>90</th>\n",
              "      <th>91</th>\n",
              "      <th>92</th>\n",
              "      <th>93</th>\n",
              "      <th>94</th>\n",
              "      <th>95</th>\n",
              "      <th>96</th>\n",
              "      <th>97</th>\n",
              "      <th>98</th>\n",
              "      <th>99</th>\n",
              "    </tr>\n",
              "  </thead>\n",
              "  <tbody>\n",
              "    <tr>\n",
              "      <th>323249</th>\n",
              "      <td>0.252433</td>\n",
              "      <td>0.212140</td>\n",
              "      <td>0.032568</td>\n",
              "      <td>-0.237404</td>\n",
              "      <td>-0.148126</td>\n",
              "      <td>-0.136992</td>\n",
              "      <td>-0.121911</td>\n",
              "      <td>-0.161791</td>\n",
              "      <td>-0.537230</td>\n",
              "      <td>0.185514</td>\n",
              "      <td>0.479198</td>\n",
              "      <td>-0.049389</td>\n",
              "      <td>-0.245795</td>\n",
              "      <td>0.076609</td>\n",
              "      <td>-0.085898</td>\n",
              "      <td>-0.102754</td>\n",
              "      <td>-0.068090</td>\n",
              "      <td>0.181401</td>\n",
              "      <td>-0.170236</td>\n",
              "      <td>-0.068251</td>\n",
              "      <td>0.016463</td>\n",
              "      <td>-0.173762</td>\n",
              "      <td>0.071989</td>\n",
              "      <td>0.200722</td>\n",
              "      <td>-0.052284</td>\n",
              "      <td>0.491653</td>\n",
              "      <td>0.067551</td>\n",
              "      <td>-0.261352</td>\n",
              "      <td>0.062048</td>\n",
              "      <td>0.023287</td>\n",
              "      <td>-0.050551</td>\n",
              "      <td>0.063143</td>\n",
              "      <td>-0.240281</td>\n",
              "      <td>-0.090183</td>\n",
              "      <td>-0.339972</td>\n",
              "      <td>-0.333721</td>\n",
              "      <td>-0.012428</td>\n",
              "      <td>-0.265852</td>\n",
              "      <td>-0.100961</td>\n",
              "      <td>0.107584</td>\n",
              "      <td>...</td>\n",
              "      <td>0.160234</td>\n",
              "      <td>0.102618</td>\n",
              "      <td>0.274741</td>\n",
              "      <td>-0.103355</td>\n",
              "      <td>-0.274502</td>\n",
              "      <td>-0.271442</td>\n",
              "      <td>-0.583706</td>\n",
              "      <td>0.052091</td>\n",
              "      <td>-0.042066</td>\n",
              "      <td>-0.037004</td>\n",
              "      <td>0.164125</td>\n",
              "      <td>0.445603</td>\n",
              "      <td>0.215982</td>\n",
              "      <td>-0.237372</td>\n",
              "      <td>-0.129968</td>\n",
              "      <td>0.162855</td>\n",
              "      <td>-0.021956</td>\n",
              "      <td>-0.194580</td>\n",
              "      <td>0.087771</td>\n",
              "      <td>0.295209</td>\n",
              "      <td>0.176602</td>\n",
              "      <td>0.318725</td>\n",
              "      <td>-0.032127</td>\n",
              "      <td>0.262596</td>\n",
              "      <td>-0.009972</td>\n",
              "      <td>-0.055356</td>\n",
              "      <td>0.265231</td>\n",
              "      <td>-0.013340</td>\n",
              "      <td>0.407962</td>\n",
              "      <td>0.126266</td>\n",
              "      <td>0.253608</td>\n",
              "      <td>0.054547</td>\n",
              "      <td>0.375947</td>\n",
              "      <td>-0.107142</td>\n",
              "      <td>0.324681</td>\n",
              "      <td>0.070237</td>\n",
              "      <td>0.123281</td>\n",
              "      <td>0.270396</td>\n",
              "      <td>-0.196323</td>\n",
              "      <td>0.473350</td>\n",
              "    </tr>\n",
              "    <tr>\n",
              "      <th>342801</th>\n",
              "      <td>0.308808</td>\n",
              "      <td>0.024606</td>\n",
              "      <td>-0.121111</td>\n",
              "      <td>-0.008237</td>\n",
              "      <td>-0.144020</td>\n",
              "      <td>-0.025024</td>\n",
              "      <td>0.071191</td>\n",
              "      <td>-0.334631</td>\n",
              "      <td>-0.321876</td>\n",
              "      <td>0.100054</td>\n",
              "      <td>0.329729</td>\n",
              "      <td>-0.168350</td>\n",
              "      <td>-0.061783</td>\n",
              "      <td>-0.049374</td>\n",
              "      <td>0.118907</td>\n",
              "      <td>-0.087270</td>\n",
              "      <td>-0.259390</td>\n",
              "      <td>0.146931</td>\n",
              "      <td>-0.094052</td>\n",
              "      <td>0.332739</td>\n",
              "      <td>0.129923</td>\n",
              "      <td>-0.233296</td>\n",
              "      <td>0.187707</td>\n",
              "      <td>0.108035</td>\n",
              "      <td>-0.075546</td>\n",
              "      <td>0.439267</td>\n",
              "      <td>0.247168</td>\n",
              "      <td>-0.117663</td>\n",
              "      <td>0.148518</td>\n",
              "      <td>0.161220</td>\n",
              "      <td>-0.127474</td>\n",
              "      <td>0.145068</td>\n",
              "      <td>-0.172556</td>\n",
              "      <td>-0.038900</td>\n",
              "      <td>-0.296869</td>\n",
              "      <td>-0.304696</td>\n",
              "      <td>-0.138908</td>\n",
              "      <td>-0.309037</td>\n",
              "      <td>-0.174421</td>\n",
              "      <td>0.131234</td>\n",
              "      <td>...</td>\n",
              "      <td>0.094397</td>\n",
              "      <td>0.053523</td>\n",
              "      <td>-0.049820</td>\n",
              "      <td>-0.050218</td>\n",
              "      <td>-0.155248</td>\n",
              "      <td>-0.241372</td>\n",
              "      <td>-0.398131</td>\n",
              "      <td>0.074371</td>\n",
              "      <td>0.152284</td>\n",
              "      <td>0.075669</td>\n",
              "      <td>0.151866</td>\n",
              "      <td>0.418107</td>\n",
              "      <td>0.169767</td>\n",
              "      <td>-0.100227</td>\n",
              "      <td>0.061269</td>\n",
              "      <td>0.005876</td>\n",
              "      <td>-0.194562</td>\n",
              "      <td>-0.127870</td>\n",
              "      <td>0.342907</td>\n",
              "      <td>0.275554</td>\n",
              "      <td>0.024734</td>\n",
              "      <td>0.195368</td>\n",
              "      <td>0.178669</td>\n",
              "      <td>0.200804</td>\n",
              "      <td>-0.257308</td>\n",
              "      <td>0.193324</td>\n",
              "      <td>0.121643</td>\n",
              "      <td>-0.048252</td>\n",
              "      <td>0.431312</td>\n",
              "      <td>0.069342</td>\n",
              "      <td>0.168324</td>\n",
              "      <td>0.167365</td>\n",
              "      <td>0.032077</td>\n",
              "      <td>-0.229165</td>\n",
              "      <td>0.410703</td>\n",
              "      <td>0.182560</td>\n",
              "      <td>0.232444</td>\n",
              "      <td>0.381155</td>\n",
              "      <td>0.037238</td>\n",
              "      <td>0.285413</td>\n",
              "    </tr>\n",
              "    <tr>\n",
              "      <th>164441</th>\n",
              "      <td>0.302240</td>\n",
              "      <td>0.085057</td>\n",
              "      <td>-0.131205</td>\n",
              "      <td>-0.088136</td>\n",
              "      <td>-0.173133</td>\n",
              "      <td>-0.085174</td>\n",
              "      <td>0.206814</td>\n",
              "      <td>-0.324954</td>\n",
              "      <td>-0.322299</td>\n",
              "      <td>-0.019898</td>\n",
              "      <td>0.343496</td>\n",
              "      <td>-0.279253</td>\n",
              "      <td>-0.136407</td>\n",
              "      <td>-0.081176</td>\n",
              "      <td>0.109006</td>\n",
              "      <td>-0.219649</td>\n",
              "      <td>-0.235751</td>\n",
              "      <td>0.154892</td>\n",
              "      <td>-0.141298</td>\n",
              "      <td>0.169248</td>\n",
              "      <td>0.037082</td>\n",
              "      <td>-0.244258</td>\n",
              "      <td>0.238271</td>\n",
              "      <td>0.138626</td>\n",
              "      <td>-0.133109</td>\n",
              "      <td>0.446502</td>\n",
              "      <td>0.237258</td>\n",
              "      <td>-0.099168</td>\n",
              "      <td>0.201160</td>\n",
              "      <td>0.167330</td>\n",
              "      <td>-0.171830</td>\n",
              "      <td>0.045361</td>\n",
              "      <td>-0.156199</td>\n",
              "      <td>-0.014034</td>\n",
              "      <td>-0.336798</td>\n",
              "      <td>-0.181340</td>\n",
              "      <td>-0.111324</td>\n",
              "      <td>-0.365484</td>\n",
              "      <td>-0.067612</td>\n",
              "      <td>0.113932</td>\n",
              "      <td>...</td>\n",
              "      <td>0.121788</td>\n",
              "      <td>0.074314</td>\n",
              "      <td>-0.180642</td>\n",
              "      <td>-0.036687</td>\n",
              "      <td>-0.220254</td>\n",
              "      <td>-0.389361</td>\n",
              "      <td>-0.193532</td>\n",
              "      <td>0.144187</td>\n",
              "      <td>0.041006</td>\n",
              "      <td>0.086013</td>\n",
              "      <td>0.108810</td>\n",
              "      <td>0.443895</td>\n",
              "      <td>0.020758</td>\n",
              "      <td>-0.102047</td>\n",
              "      <td>0.027440</td>\n",
              "      <td>0.178896</td>\n",
              "      <td>-0.162796</td>\n",
              "      <td>-0.053964</td>\n",
              "      <td>0.240465</td>\n",
              "      <td>0.238298</td>\n",
              "      <td>0.085796</td>\n",
              "      <td>0.287646</td>\n",
              "      <td>0.105647</td>\n",
              "      <td>0.252919</td>\n",
              "      <td>-0.243448</td>\n",
              "      <td>0.123115</td>\n",
              "      <td>0.247049</td>\n",
              "      <td>-0.134708</td>\n",
              "      <td>0.407281</td>\n",
              "      <td>0.041078</td>\n",
              "      <td>0.146423</td>\n",
              "      <td>0.209838</td>\n",
              "      <td>0.104267</td>\n",
              "      <td>-0.149227</td>\n",
              "      <td>0.387239</td>\n",
              "      <td>0.190012</td>\n",
              "      <td>0.246940</td>\n",
              "      <td>0.251289</td>\n",
              "      <td>-0.051736</td>\n",
              "      <td>0.282075</td>\n",
              "    </tr>\n",
              "    <tr>\n",
              "      <th>423976</th>\n",
              "      <td>0.182079</td>\n",
              "      <td>0.248819</td>\n",
              "      <td>-0.153780</td>\n",
              "      <td>-0.054491</td>\n",
              "      <td>-0.264087</td>\n",
              "      <td>-0.340695</td>\n",
              "      <td>-0.057152</td>\n",
              "      <td>-0.399522</td>\n",
              "      <td>-0.334112</td>\n",
              "      <td>-0.040897</td>\n",
              "      <td>0.406010</td>\n",
              "      <td>-0.335896</td>\n",
              "      <td>-0.111445</td>\n",
              "      <td>-0.290381</td>\n",
              "      <td>0.051144</td>\n",
              "      <td>-0.026010</td>\n",
              "      <td>-0.197804</td>\n",
              "      <td>0.226103</td>\n",
              "      <td>-0.192778</td>\n",
              "      <td>0.091181</td>\n",
              "      <td>-0.032950</td>\n",
              "      <td>-0.229786</td>\n",
              "      <td>0.369223</td>\n",
              "      <td>0.129695</td>\n",
              "      <td>-0.071986</td>\n",
              "      <td>0.404963</td>\n",
              "      <td>0.456660</td>\n",
              "      <td>-0.340429</td>\n",
              "      <td>0.260616</td>\n",
              "      <td>0.315885</td>\n",
              "      <td>-0.226785</td>\n",
              "      <td>-0.070739</td>\n",
              "      <td>-0.019855</td>\n",
              "      <td>-0.053925</td>\n",
              "      <td>-0.193267</td>\n",
              "      <td>-0.298893</td>\n",
              "      <td>-0.187209</td>\n",
              "      <td>-0.061662</td>\n",
              "      <td>-0.076553</td>\n",
              "      <td>0.118591</td>\n",
              "      <td>...</td>\n",
              "      <td>0.011202</td>\n",
              "      <td>0.105276</td>\n",
              "      <td>-0.204127</td>\n",
              "      <td>0.027832</td>\n",
              "      <td>-0.070651</td>\n",
              "      <td>-0.548815</td>\n",
              "      <td>-0.196778</td>\n",
              "      <td>0.166535</td>\n",
              "      <td>0.097607</td>\n",
              "      <td>0.094007</td>\n",
              "      <td>-0.006582</td>\n",
              "      <td>0.284871</td>\n",
              "      <td>-0.006597</td>\n",
              "      <td>-0.238071</td>\n",
              "      <td>-0.017583</td>\n",
              "      <td>0.280364</td>\n",
              "      <td>-0.090666</td>\n",
              "      <td>-0.035711</td>\n",
              "      <td>0.313027</td>\n",
              "      <td>0.302798</td>\n",
              "      <td>0.214245</td>\n",
              "      <td>0.312013</td>\n",
              "      <td>0.281550</td>\n",
              "      <td>0.293477</td>\n",
              "      <td>-0.097448</td>\n",
              "      <td>0.073384</td>\n",
              "      <td>0.410453</td>\n",
              "      <td>-0.164593</td>\n",
              "      <td>0.177724</td>\n",
              "      <td>-0.029533</td>\n",
              "      <td>-0.086769</td>\n",
              "      <td>0.432034</td>\n",
              "      <td>0.254311</td>\n",
              "      <td>-0.036286</td>\n",
              "      <td>0.315286</td>\n",
              "      <td>-0.008311</td>\n",
              "      <td>0.233776</td>\n",
              "      <td>0.258210</td>\n",
              "      <td>0.073270</td>\n",
              "      <td>0.317053</td>\n",
              "    </tr>\n",
              "    <tr>\n",
              "      <th>229980</th>\n",
              "      <td>0.339455</td>\n",
              "      <td>-0.143841</td>\n",
              "      <td>0.011501</td>\n",
              "      <td>-0.059003</td>\n",
              "      <td>-0.165186</td>\n",
              "      <td>0.039881</td>\n",
              "      <td>0.045913</td>\n",
              "      <td>-0.246844</td>\n",
              "      <td>-0.149052</td>\n",
              "      <td>-0.036479</td>\n",
              "      <td>0.372923</td>\n",
              "      <td>-0.261831</td>\n",
              "      <td>0.028815</td>\n",
              "      <td>0.066781</td>\n",
              "      <td>0.116302</td>\n",
              "      <td>-0.156279</td>\n",
              "      <td>-0.183813</td>\n",
              "      <td>0.203778</td>\n",
              "      <td>-0.045273</td>\n",
              "      <td>0.252633</td>\n",
              "      <td>0.123726</td>\n",
              "      <td>-0.361893</td>\n",
              "      <td>0.188957</td>\n",
              "      <td>0.129807</td>\n",
              "      <td>-0.047814</td>\n",
              "      <td>0.390435</td>\n",
              "      <td>0.167822</td>\n",
              "      <td>-0.130743</td>\n",
              "      <td>0.107405</td>\n",
              "      <td>0.168218</td>\n",
              "      <td>-0.076218</td>\n",
              "      <td>0.116501</td>\n",
              "      <td>-0.065357</td>\n",
              "      <td>-0.020653</td>\n",
              "      <td>-0.308080</td>\n",
              "      <td>-0.329655</td>\n",
              "      <td>-0.045098</td>\n",
              "      <td>-0.342716</td>\n",
              "      <td>-0.179305</td>\n",
              "      <td>0.398697</td>\n",
              "      <td>...</td>\n",
              "      <td>0.125375</td>\n",
              "      <td>0.161579</td>\n",
              "      <td>-0.083020</td>\n",
              "      <td>-0.021796</td>\n",
              "      <td>-0.191142</td>\n",
              "      <td>-0.268307</td>\n",
              "      <td>-0.239278</td>\n",
              "      <td>0.165276</td>\n",
              "      <td>0.175487</td>\n",
              "      <td>-0.006518</td>\n",
              "      <td>0.029621</td>\n",
              "      <td>0.399537</td>\n",
              "      <td>0.113384</td>\n",
              "      <td>-0.121505</td>\n",
              "      <td>0.008987</td>\n",
              "      <td>0.057630</td>\n",
              "      <td>-0.111309</td>\n",
              "      <td>-0.111618</td>\n",
              "      <td>0.323647</td>\n",
              "      <td>0.212133</td>\n",
              "      <td>0.119831</td>\n",
              "      <td>0.321174</td>\n",
              "      <td>0.054711</td>\n",
              "      <td>0.115511</td>\n",
              "      <td>-0.271028</td>\n",
              "      <td>0.132794</td>\n",
              "      <td>0.262815</td>\n",
              "      <td>-0.042991</td>\n",
              "      <td>0.359088</td>\n",
              "      <td>-0.107947</td>\n",
              "      <td>0.067196</td>\n",
              "      <td>0.243790</td>\n",
              "      <td>0.025918</td>\n",
              "      <td>-0.169469</td>\n",
              "      <td>0.318569</td>\n",
              "      <td>0.093413</td>\n",
              "      <td>0.180139</td>\n",
              "      <td>0.328849</td>\n",
              "      <td>0.140244</td>\n",
              "      <td>0.275698</td>\n",
              "    </tr>\n",
              "  </tbody>\n",
              "</table>\n",
              "<p>5 rows × 100 columns</p>\n",
              "</div>"
            ],
            "text/plain": [
              "              0         1         2   ...        97        98        99\n",
              "323249  0.252433  0.212140  0.032568  ...  0.270396 -0.196323  0.473350\n",
              "342801  0.308808  0.024606 -0.121111  ...  0.381155  0.037238  0.285413\n",
              "164441  0.302240  0.085057 -0.131205  ...  0.251289 -0.051736  0.282075\n",
              "423976  0.182079  0.248819 -0.153780  ...  0.258210  0.073270  0.317053\n",
              "229980  0.339455 -0.143841  0.011501  ...  0.328849  0.140244  0.275698\n",
              "\n",
              "[5 rows x 100 columns]"
            ]
          },
          "metadata": {
            "tags": []
          },
          "execution_count": 22
        }
      ]
    },
    {
      "cell_type": "markdown",
      "metadata": {
        "id": "pPPUtZXWi4Cn",
        "colab_type": "text"
      },
      "source": [
        "Yep.. this is what we want.."
      ]
    },
    {
      "cell_type": "markdown",
      "metadata": {
        "id": "tCq57tlvg72K",
        "colab_type": "text"
      },
      "source": [
        "Now in the test set, there may be words which did not occur in the train set<br>\n",
        "\n",
        "so such words won't occur in the word2vec vocabulary<br> \n",
        "and therefore cannot be vectorzed.\n",
        "\n",
        "we will convert such words into a zero vector."
      ]
    },
    {
      "cell_type": "code",
      "metadata": {
        "id": "7DSn7uIWZys5",
        "colab_type": "code",
        "colab": {
          "base_uri": "https://localhost:8080/",
          "height": 72
        },
        "outputId": "cc960dcf-f896-4b1c-87f1-74e936f8a0b2"
      },
      "source": [
        "def w2v_func(x):\n",
        "    try:\n",
        "        return w2v_model[x]\n",
        "    except:\n",
        "        return np.zeros(100,)\n",
        "\n",
        "temp = test_text.apply(lambda x: np.mean( [w2v_func(token) for token in x], \n",
        "                                         axis=0) )\n",
        "\n",
        "for i in temp[temp.isna()].index:\n",
        "    temp.loc[i] = v\n",
        "\n",
        "X_test = pd.DataFrame.from_dict( dict(zip(temp.index, temp.values)), \n",
        "                                orient='index')"
      ],
      "execution_count": 23,
      "outputs": [
        {
          "output_type": "stream",
          "text": [
            "/usr/local/lib/python3.6/dist-packages/ipykernel_launcher.py:3: DeprecationWarning: Call to deprecated `__getitem__` (Method will be removed in 4.0.0, use self.wv.__getitem__() instead).\n",
            "  This is separate from the ipykernel package so we can avoid doing imports until\n"
          ],
          "name": "stderr"
        }
      ]
    },
    {
      "cell_type": "code",
      "metadata": {
        "id": "rQx-fJ1daZws",
        "colab_type": "code",
        "colab": {
          "base_uri": "https://localhost:8080/",
          "height": 256
        },
        "outputId": "c4349287-5664-46c3-eac9-0b44f1521134"
      },
      "source": [
        "X_test.head()"
      ],
      "execution_count": 24,
      "outputs": [
        {
          "output_type": "execute_result",
          "data": {
            "text/html": [
              "<div>\n",
              "<style scoped>\n",
              "    .dataframe tbody tr th:only-of-type {\n",
              "        vertical-align: middle;\n",
              "    }\n",
              "\n",
              "    .dataframe tbody tr th {\n",
              "        vertical-align: top;\n",
              "    }\n",
              "\n",
              "    .dataframe thead th {\n",
              "        text-align: right;\n",
              "    }\n",
              "</style>\n",
              "<table border=\"1\" class=\"dataframe\">\n",
              "  <thead>\n",
              "    <tr style=\"text-align: right;\">\n",
              "      <th></th>\n",
              "      <th>0</th>\n",
              "      <th>1</th>\n",
              "      <th>2</th>\n",
              "      <th>3</th>\n",
              "      <th>4</th>\n",
              "      <th>5</th>\n",
              "      <th>6</th>\n",
              "      <th>7</th>\n",
              "      <th>8</th>\n",
              "      <th>9</th>\n",
              "      <th>10</th>\n",
              "      <th>11</th>\n",
              "      <th>12</th>\n",
              "      <th>13</th>\n",
              "      <th>14</th>\n",
              "      <th>15</th>\n",
              "      <th>16</th>\n",
              "      <th>17</th>\n",
              "      <th>18</th>\n",
              "      <th>19</th>\n",
              "      <th>20</th>\n",
              "      <th>21</th>\n",
              "      <th>22</th>\n",
              "      <th>23</th>\n",
              "      <th>24</th>\n",
              "      <th>25</th>\n",
              "      <th>26</th>\n",
              "      <th>27</th>\n",
              "      <th>28</th>\n",
              "      <th>29</th>\n",
              "      <th>30</th>\n",
              "      <th>31</th>\n",
              "      <th>32</th>\n",
              "      <th>33</th>\n",
              "      <th>34</th>\n",
              "      <th>35</th>\n",
              "      <th>36</th>\n",
              "      <th>37</th>\n",
              "      <th>38</th>\n",
              "      <th>39</th>\n",
              "      <th>...</th>\n",
              "      <th>60</th>\n",
              "      <th>61</th>\n",
              "      <th>62</th>\n",
              "      <th>63</th>\n",
              "      <th>64</th>\n",
              "      <th>65</th>\n",
              "      <th>66</th>\n",
              "      <th>67</th>\n",
              "      <th>68</th>\n",
              "      <th>69</th>\n",
              "      <th>70</th>\n",
              "      <th>71</th>\n",
              "      <th>72</th>\n",
              "      <th>73</th>\n",
              "      <th>74</th>\n",
              "      <th>75</th>\n",
              "      <th>76</th>\n",
              "      <th>77</th>\n",
              "      <th>78</th>\n",
              "      <th>79</th>\n",
              "      <th>80</th>\n",
              "      <th>81</th>\n",
              "      <th>82</th>\n",
              "      <th>83</th>\n",
              "      <th>84</th>\n",
              "      <th>85</th>\n",
              "      <th>86</th>\n",
              "      <th>87</th>\n",
              "      <th>88</th>\n",
              "      <th>89</th>\n",
              "      <th>90</th>\n",
              "      <th>91</th>\n",
              "      <th>92</th>\n",
              "      <th>93</th>\n",
              "      <th>94</th>\n",
              "      <th>95</th>\n",
              "      <th>96</th>\n",
              "      <th>97</th>\n",
              "      <th>98</th>\n",
              "      <th>99</th>\n",
              "    </tr>\n",
              "  </thead>\n",
              "  <tbody>\n",
              "    <tr>\n",
              "      <th>208568</th>\n",
              "      <td>0.294000</td>\n",
              "      <td>-0.068598</td>\n",
              "      <td>-0.010935</td>\n",
              "      <td>0.012504</td>\n",
              "      <td>-0.151976</td>\n",
              "      <td>-0.008306</td>\n",
              "      <td>-0.237612</td>\n",
              "      <td>-0.309721</td>\n",
              "      <td>-0.269854</td>\n",
              "      <td>0.073029</td>\n",
              "      <td>0.459732</td>\n",
              "      <td>-0.351365</td>\n",
              "      <td>-0.117844</td>\n",
              "      <td>-0.101529</td>\n",
              "      <td>0.230719</td>\n",
              "      <td>-0.005994</td>\n",
              "      <td>-0.125540</td>\n",
              "      <td>0.194221</td>\n",
              "      <td>-0.131212</td>\n",
              "      <td>0.086875</td>\n",
              "      <td>0.002288</td>\n",
              "      <td>-0.344901</td>\n",
              "      <td>0.250786</td>\n",
              "      <td>0.138686</td>\n",
              "      <td>-0.137821</td>\n",
              "      <td>0.392865</td>\n",
              "      <td>0.082621</td>\n",
              "      <td>-0.102847</td>\n",
              "      <td>-0.074401</td>\n",
              "      <td>0.197670</td>\n",
              "      <td>-0.123191</td>\n",
              "      <td>0.038767</td>\n",
              "      <td>0.063131</td>\n",
              "      <td>-0.039194</td>\n",
              "      <td>-0.248121</td>\n",
              "      <td>-0.341854</td>\n",
              "      <td>-0.113912</td>\n",
              "      <td>-0.231794</td>\n",
              "      <td>-0.075690</td>\n",
              "      <td>0.267323</td>\n",
              "      <td>...</td>\n",
              "      <td>0.098183</td>\n",
              "      <td>0.135395</td>\n",
              "      <td>-0.035856</td>\n",
              "      <td>0.061143</td>\n",
              "      <td>-0.116041</td>\n",
              "      <td>-0.496005</td>\n",
              "      <td>-0.299474</td>\n",
              "      <td>0.023949</td>\n",
              "      <td>0.162272</td>\n",
              "      <td>-0.084995</td>\n",
              "      <td>-0.100098</td>\n",
              "      <td>0.211273</td>\n",
              "      <td>0.134238</td>\n",
              "      <td>-0.129615</td>\n",
              "      <td>0.113928</td>\n",
              "      <td>0.168231</td>\n",
              "      <td>-0.190219</td>\n",
              "      <td>-0.025537</td>\n",
              "      <td>0.403270</td>\n",
              "      <td>0.274388</td>\n",
              "      <td>0.206388</td>\n",
              "      <td>0.289022</td>\n",
              "      <td>0.066736</td>\n",
              "      <td>0.187616</td>\n",
              "      <td>-0.282719</td>\n",
              "      <td>0.143898</td>\n",
              "      <td>0.180387</td>\n",
              "      <td>-0.053885</td>\n",
              "      <td>0.440821</td>\n",
              "      <td>-0.323410</td>\n",
              "      <td>0.105959</td>\n",
              "      <td>0.395341</td>\n",
              "      <td>0.015426</td>\n",
              "      <td>-0.081143</td>\n",
              "      <td>0.444694</td>\n",
              "      <td>0.254494</td>\n",
              "      <td>0.199947</td>\n",
              "      <td>0.283238</td>\n",
              "      <td>0.077414</td>\n",
              "      <td>0.277940</td>\n",
              "    </tr>\n",
              "    <tr>\n",
              "      <th>326959</th>\n",
              "      <td>0.176762</td>\n",
              "      <td>0.057403</td>\n",
              "      <td>-0.187187</td>\n",
              "      <td>-0.042620</td>\n",
              "      <td>-0.230203</td>\n",
              "      <td>-0.141246</td>\n",
              "      <td>-0.065864</td>\n",
              "      <td>-0.275595</td>\n",
              "      <td>-0.364767</td>\n",
              "      <td>-0.020605</td>\n",
              "      <td>0.333426</td>\n",
              "      <td>-0.323465</td>\n",
              "      <td>-0.016116</td>\n",
              "      <td>-0.104303</td>\n",
              "      <td>0.136378</td>\n",
              "      <td>-0.163902</td>\n",
              "      <td>-0.265134</td>\n",
              "      <td>0.224896</td>\n",
              "      <td>-0.247210</td>\n",
              "      <td>0.323927</td>\n",
              "      <td>-0.014867</td>\n",
              "      <td>-0.309821</td>\n",
              "      <td>0.241263</td>\n",
              "      <td>0.043485</td>\n",
              "      <td>-0.151614</td>\n",
              "      <td>0.355285</td>\n",
              "      <td>0.218123</td>\n",
              "      <td>-0.155152</td>\n",
              "      <td>0.160314</td>\n",
              "      <td>0.242147</td>\n",
              "      <td>-0.093906</td>\n",
              "      <td>-0.032858</td>\n",
              "      <td>-0.066080</td>\n",
              "      <td>-0.060644</td>\n",
              "      <td>-0.215631</td>\n",
              "      <td>-0.402417</td>\n",
              "      <td>-0.049859</td>\n",
              "      <td>-0.206686</td>\n",
              "      <td>-0.191616</td>\n",
              "      <td>0.190606</td>\n",
              "      <td>...</td>\n",
              "      <td>0.023554</td>\n",
              "      <td>0.142939</td>\n",
              "      <td>-0.095457</td>\n",
              "      <td>0.018947</td>\n",
              "      <td>0.005588</td>\n",
              "      <td>-0.375345</td>\n",
              "      <td>-0.299792</td>\n",
              "      <td>0.041586</td>\n",
              "      <td>0.082800</td>\n",
              "      <td>0.007549</td>\n",
              "      <td>-0.092914</td>\n",
              "      <td>0.336724</td>\n",
              "      <td>0.105661</td>\n",
              "      <td>-0.155490</td>\n",
              "      <td>0.041630</td>\n",
              "      <td>0.183465</td>\n",
              "      <td>-0.224967</td>\n",
              "      <td>-0.155598</td>\n",
              "      <td>0.314403</td>\n",
              "      <td>0.263891</td>\n",
              "      <td>0.187141</td>\n",
              "      <td>0.226873</td>\n",
              "      <td>0.172743</td>\n",
              "      <td>0.269579</td>\n",
              "      <td>-0.196931</td>\n",
              "      <td>0.054821</td>\n",
              "      <td>0.247641</td>\n",
              "      <td>-0.118991</td>\n",
              "      <td>0.330974</td>\n",
              "      <td>-0.086853</td>\n",
              "      <td>-0.080610</td>\n",
              "      <td>0.356580</td>\n",
              "      <td>0.045050</td>\n",
              "      <td>-0.075183</td>\n",
              "      <td>0.324655</td>\n",
              "      <td>0.194116</td>\n",
              "      <td>0.236600</td>\n",
              "      <td>0.219570</td>\n",
              "      <td>0.043543</td>\n",
              "      <td>0.298795</td>\n",
              "    </tr>\n",
              "    <tr>\n",
              "      <th>292064</th>\n",
              "      <td>0.192817</td>\n",
              "      <td>-0.001591</td>\n",
              "      <td>-0.112183</td>\n",
              "      <td>-0.057475</td>\n",
              "      <td>-0.165857</td>\n",
              "      <td>-0.123477</td>\n",
              "      <td>0.083526</td>\n",
              "      <td>-0.254859</td>\n",
              "      <td>-0.395052</td>\n",
              "      <td>0.140516</td>\n",
              "      <td>0.441834</td>\n",
              "      <td>-0.155495</td>\n",
              "      <td>-0.223818</td>\n",
              "      <td>0.000567</td>\n",
              "      <td>-0.025255</td>\n",
              "      <td>-0.084663</td>\n",
              "      <td>-0.160085</td>\n",
              "      <td>0.274446</td>\n",
              "      <td>-0.191406</td>\n",
              "      <td>0.042795</td>\n",
              "      <td>0.032930</td>\n",
              "      <td>-0.311123</td>\n",
              "      <td>0.238399</td>\n",
              "      <td>0.166961</td>\n",
              "      <td>-0.075368</td>\n",
              "      <td>0.461300</td>\n",
              "      <td>0.179413</td>\n",
              "      <td>-0.225638</td>\n",
              "      <td>0.150521</td>\n",
              "      <td>0.119108</td>\n",
              "      <td>-0.081082</td>\n",
              "      <td>0.057445</td>\n",
              "      <td>0.026054</td>\n",
              "      <td>0.018466</td>\n",
              "      <td>-0.226195</td>\n",
              "      <td>-0.243417</td>\n",
              "      <td>-0.001161</td>\n",
              "      <td>-0.197971</td>\n",
              "      <td>-0.038239</td>\n",
              "      <td>0.239910</td>\n",
              "      <td>...</td>\n",
              "      <td>0.094142</td>\n",
              "      <td>0.193733</td>\n",
              "      <td>0.044387</td>\n",
              "      <td>-0.004768</td>\n",
              "      <td>-0.088984</td>\n",
              "      <td>-0.223009</td>\n",
              "      <td>-0.275863</td>\n",
              "      <td>-0.041844</td>\n",
              "      <td>-0.079369</td>\n",
              "      <td>0.010079</td>\n",
              "      <td>-0.070787</td>\n",
              "      <td>0.464929</td>\n",
              "      <td>0.347130</td>\n",
              "      <td>-0.010274</td>\n",
              "      <td>-0.145332</td>\n",
              "      <td>0.151197</td>\n",
              "      <td>-0.135199</td>\n",
              "      <td>-0.091008</td>\n",
              "      <td>0.112120</td>\n",
              "      <td>0.339533</td>\n",
              "      <td>0.185669</td>\n",
              "      <td>0.315048</td>\n",
              "      <td>0.166237</td>\n",
              "      <td>0.216483</td>\n",
              "      <td>-0.124235</td>\n",
              "      <td>0.076727</td>\n",
              "      <td>0.235166</td>\n",
              "      <td>-0.047999</td>\n",
              "      <td>0.357511</td>\n",
              "      <td>0.141112</td>\n",
              "      <td>0.124243</td>\n",
              "      <td>0.245302</td>\n",
              "      <td>0.096513</td>\n",
              "      <td>-0.185765</td>\n",
              "      <td>0.353029</td>\n",
              "      <td>0.173698</td>\n",
              "      <td>0.172993</td>\n",
              "      <td>0.296124</td>\n",
              "      <td>-0.092636</td>\n",
              "      <td>0.322293</td>\n",
              "    </tr>\n",
              "    <tr>\n",
              "      <th>85577</th>\n",
              "      <td>0.184148</td>\n",
              "      <td>0.080792</td>\n",
              "      <td>-0.179845</td>\n",
              "      <td>0.012167</td>\n",
              "      <td>-0.064042</td>\n",
              "      <td>-0.048932</td>\n",
              "      <td>0.019091</td>\n",
              "      <td>-0.365839</td>\n",
              "      <td>-0.234425</td>\n",
              "      <td>-0.134919</td>\n",
              "      <td>0.269273</td>\n",
              "      <td>-0.305107</td>\n",
              "      <td>0.047456</td>\n",
              "      <td>0.000991</td>\n",
              "      <td>0.113020</td>\n",
              "      <td>0.022207</td>\n",
              "      <td>-0.214290</td>\n",
              "      <td>0.139816</td>\n",
              "      <td>-0.154448</td>\n",
              "      <td>0.015033</td>\n",
              "      <td>0.055423</td>\n",
              "      <td>-0.216445</td>\n",
              "      <td>0.225629</td>\n",
              "      <td>0.145958</td>\n",
              "      <td>-0.058737</td>\n",
              "      <td>0.442551</td>\n",
              "      <td>0.279880</td>\n",
              "      <td>-0.262989</td>\n",
              "      <td>0.078579</td>\n",
              "      <td>0.225602</td>\n",
              "      <td>-0.202575</td>\n",
              "      <td>0.061272</td>\n",
              "      <td>-0.069509</td>\n",
              "      <td>0.022825</td>\n",
              "      <td>-0.416728</td>\n",
              "      <td>-0.439180</td>\n",
              "      <td>0.000137</td>\n",
              "      <td>-0.049983</td>\n",
              "      <td>-0.209522</td>\n",
              "      <td>0.297469</td>\n",
              "      <td>...</td>\n",
              "      <td>0.047691</td>\n",
              "      <td>0.120784</td>\n",
              "      <td>-0.005330</td>\n",
              "      <td>0.070589</td>\n",
              "      <td>-0.021254</td>\n",
              "      <td>-0.416986</td>\n",
              "      <td>-0.380670</td>\n",
              "      <td>0.012760</td>\n",
              "      <td>0.183034</td>\n",
              "      <td>0.025214</td>\n",
              "      <td>0.116842</td>\n",
              "      <td>0.364985</td>\n",
              "      <td>0.105362</td>\n",
              "      <td>-0.153549</td>\n",
              "      <td>-0.082926</td>\n",
              "      <td>0.222998</td>\n",
              "      <td>-0.048693</td>\n",
              "      <td>-0.071802</td>\n",
              "      <td>0.197704</td>\n",
              "      <td>0.365397</td>\n",
              "      <td>0.220640</td>\n",
              "      <td>0.392912</td>\n",
              "      <td>0.193886</td>\n",
              "      <td>0.358354</td>\n",
              "      <td>-0.148871</td>\n",
              "      <td>0.041759</td>\n",
              "      <td>0.315767</td>\n",
              "      <td>-0.218229</td>\n",
              "      <td>0.280108</td>\n",
              "      <td>-0.023471</td>\n",
              "      <td>0.060808</td>\n",
              "      <td>0.394134</td>\n",
              "      <td>0.124328</td>\n",
              "      <td>-0.267365</td>\n",
              "      <td>0.365408</td>\n",
              "      <td>0.093200</td>\n",
              "      <td>0.196730</td>\n",
              "      <td>0.285905</td>\n",
              "      <td>-0.013367</td>\n",
              "      <td>0.226287</td>\n",
              "    </tr>\n",
              "    <tr>\n",
              "      <th>164229</th>\n",
              "      <td>0.308732</td>\n",
              "      <td>0.044122</td>\n",
              "      <td>-0.077944</td>\n",
              "      <td>-0.122425</td>\n",
              "      <td>-0.131907</td>\n",
              "      <td>-0.050913</td>\n",
              "      <td>0.104627</td>\n",
              "      <td>-0.290712</td>\n",
              "      <td>-0.287747</td>\n",
              "      <td>0.190735</td>\n",
              "      <td>0.387199</td>\n",
              "      <td>-0.125616</td>\n",
              "      <td>-0.010360</td>\n",
              "      <td>-0.122454</td>\n",
              "      <td>0.205217</td>\n",
              "      <td>-0.161019</td>\n",
              "      <td>-0.137536</td>\n",
              "      <td>0.219214</td>\n",
              "      <td>-0.082063</td>\n",
              "      <td>0.279173</td>\n",
              "      <td>0.046942</td>\n",
              "      <td>-0.222632</td>\n",
              "      <td>0.269959</td>\n",
              "      <td>0.079076</td>\n",
              "      <td>-0.087607</td>\n",
              "      <td>0.469959</td>\n",
              "      <td>0.179964</td>\n",
              "      <td>-0.084298</td>\n",
              "      <td>0.181634</td>\n",
              "      <td>0.125343</td>\n",
              "      <td>-0.045368</td>\n",
              "      <td>0.030069</td>\n",
              "      <td>0.025873</td>\n",
              "      <td>-0.098591</td>\n",
              "      <td>-0.320751</td>\n",
              "      <td>-0.389305</td>\n",
              "      <td>-0.181913</td>\n",
              "      <td>-0.297829</td>\n",
              "      <td>-0.190150</td>\n",
              "      <td>0.236820</td>\n",
              "      <td>...</td>\n",
              "      <td>0.100436</td>\n",
              "      <td>0.121525</td>\n",
              "      <td>0.025410</td>\n",
              "      <td>-0.107121</td>\n",
              "      <td>-0.054281</td>\n",
              "      <td>-0.298962</td>\n",
              "      <td>-0.321711</td>\n",
              "      <td>0.040099</td>\n",
              "      <td>-0.015827</td>\n",
              "      <td>0.017738</td>\n",
              "      <td>0.000023</td>\n",
              "      <td>0.398908</td>\n",
              "      <td>0.214232</td>\n",
              "      <td>-0.099377</td>\n",
              "      <td>-0.114310</td>\n",
              "      <td>0.115488</td>\n",
              "      <td>-0.275936</td>\n",
              "      <td>-0.092454</td>\n",
              "      <td>0.325106</td>\n",
              "      <td>0.246393</td>\n",
              "      <td>0.174885</td>\n",
              "      <td>0.220582</td>\n",
              "      <td>0.073413</td>\n",
              "      <td>0.139817</td>\n",
              "      <td>-0.240976</td>\n",
              "      <td>0.106088</td>\n",
              "      <td>0.234622</td>\n",
              "      <td>-0.113410</td>\n",
              "      <td>0.406965</td>\n",
              "      <td>0.005672</td>\n",
              "      <td>0.127439</td>\n",
              "      <td>0.197885</td>\n",
              "      <td>0.212236</td>\n",
              "      <td>-0.173546</td>\n",
              "      <td>0.337989</td>\n",
              "      <td>0.192327</td>\n",
              "      <td>0.245536</td>\n",
              "      <td>0.256984</td>\n",
              "      <td>0.218902</td>\n",
              "      <td>0.351517</td>\n",
              "    </tr>\n",
              "  </tbody>\n",
              "</table>\n",
              "<p>5 rows × 100 columns</p>\n",
              "</div>"
            ],
            "text/plain": [
              "              0         1         2   ...        97        98        99\n",
              "208568  0.294000 -0.068598 -0.010935  ...  0.283238  0.077414  0.277940\n",
              "326959  0.176762  0.057403 -0.187187  ...  0.219570  0.043543  0.298795\n",
              "292064  0.192817 -0.001591 -0.112183  ...  0.296124 -0.092636  0.322293\n",
              "85577   0.184148  0.080792 -0.179845  ...  0.285905 -0.013367  0.226287\n",
              "164229  0.308732  0.044122 -0.077944  ...  0.256984  0.218902  0.351517\n",
              "\n",
              "[5 rows x 100 columns]"
            ]
          },
          "metadata": {
            "tags": []
          },
          "execution_count": 24
        }
      ]
    },
    {
      "cell_type": "markdown",
      "metadata": {
        "id": "bSN3V4xxik8v",
        "colab_type": "text"
      },
      "source": [
        "# Applying model\n",
        "\n",
        "We simply use a Logistic Regression to see how it works"
      ]
    },
    {
      "cell_type": "code",
      "metadata": {
        "id": "3RKL_X9gkvcA",
        "colab_type": "code",
        "colab": {
          "base_uri": "https://localhost:8080/",
          "height": 104
        },
        "outputId": "00b86362-2027-4f92-920c-e9dd0f10d7f3"
      },
      "source": [
        "lr_cv = LogisticRegressionCV(solver='sag', n_jobs=-1, random_state=0)\n",
        "\n",
        "lr_cv.fit(X_train, y_train)"
      ],
      "execution_count": 25,
      "outputs": [
        {
          "output_type": "execute_result",
          "data": {
            "text/plain": [
              "LogisticRegressionCV(Cs=10, class_weight=None, cv=None, dual=False,\n",
              "                     fit_intercept=True, intercept_scaling=1.0, l1_ratios=None,\n",
              "                     max_iter=100, multi_class='auto', n_jobs=-1, penalty='l2',\n",
              "                     random_state=0, refit=True, scoring=None, solver='sag',\n",
              "                     tol=0.0001, verbose=0)"
            ]
          },
          "metadata": {
            "tags": []
          },
          "execution_count": 25
        }
      ]
    },
    {
      "cell_type": "markdown",
      "metadata": {
        "id": "3wyAYIUAi_wj",
        "colab_type": "text"
      },
      "source": [
        "The regularisation strength values used"
      ]
    },
    {
      "cell_type": "code",
      "metadata": {
        "id": "hKvzH840nxRy",
        "colab_type": "code",
        "colab": {
          "base_uri": "https://localhost:8080/",
          "height": 69
        },
        "outputId": "1ac9e39b-aadd-437f-fe48-b9da1cb14cba"
      },
      "source": [
        "lr_cv.Cs_"
      ],
      "execution_count": 26,
      "outputs": [
        {
          "output_type": "execute_result",
          "data": {
            "text/plain": [
              "array([1.00000000e-04, 7.74263683e-04, 5.99484250e-03, 4.64158883e-02,\n",
              "       3.59381366e-01, 2.78255940e+00, 2.15443469e+01, 1.66810054e+02,\n",
              "       1.29154967e+03, 1.00000000e+04])"
            ]
          },
          "metadata": {
            "tags": []
          },
          "execution_count": 26
        }
      ]
    },
    {
      "cell_type": "markdown",
      "metadata": {
        "id": "2CWEX0RSjJuK",
        "colab_type": "text"
      },
      "source": [
        "The best weight vector obtained."
      ]
    },
    {
      "cell_type": "code",
      "metadata": {
        "id": "1pdZMj_H33sJ",
        "colab_type": "code",
        "colab": {
          "base_uri": "https://localhost:8080/",
          "height": 364
        },
        "outputId": "6e8b96b7-e353-4799-9f46-3c07fb1ce127"
      },
      "source": [
        "lr_cv.coef_"
      ],
      "execution_count": 27,
      "outputs": [
        {
          "output_type": "execute_result",
          "data": {
            "text/plain": [
              "array([[ 2.67722468,  4.33575377, -2.44593323,  1.05756641,  0.81989912,\n",
              "         2.12842061, -6.31270017, -2.46614167, -2.05674866, -0.49966624,\n",
              "        -0.30189814, -3.13809181, -1.23617525, -5.81015876,  3.33279935,\n",
              "        -2.76042927,  0.65482648,  0.97269735,  1.54153071,  2.75857937,\n",
              "        -2.39286875,  3.7123978 ,  6.35282296,  1.12890002, -2.95380791,\n",
              "        -1.78083075, -0.43175794,  0.21194503,  0.30432438, -2.89556041,\n",
              "         0.47894346, -0.34042328,  2.38409915,  2.77873428,  1.48143093,\n",
              "         4.01556727, -2.35166644,  2.97706741,  4.28078537, -6.6557546 ,\n",
              "         0.77195948, -2.34034622,  1.3317324 , -2.8601829 , -2.24085788,\n",
              "        -1.35986042,  1.50596747, -2.17347994,  1.180456  ,  3.23394088,\n",
              "        -2.42485462,  0.85102209, -3.64011884,  1.88894153, -1.15360687,\n",
              "        -2.32806724,  0.20211164,  0.6532244 , -1.92585417, -3.14224459,\n",
              "        -2.99210761, -4.74444027,  1.29856326, -0.05937195,  0.15642827,\n",
              "        -0.65446181,  0.21329185,  1.47103112,  0.60468947,  0.66610703,\n",
              "        -1.05774917,  0.23339422,  2.09943944,  0.75158338, -0.77358215,\n",
              "         1.23940388, -1.81132852,  3.07134334, -0.7689584 ,  0.89068193,\n",
              "        -1.49857056, -0.35534654,  5.40630054, -1.6916984 ,  0.53870046,\n",
              "        -3.36577828,  6.91734006,  2.26238271,  2.23024051,  0.37071362,\n",
              "         2.12133806,  2.54754551,  0.28330673, -1.06542213, -2.37762636,\n",
              "        -1.49792095,  0.81331633, -2.08488738, -3.06109154,  4.43884825]])"
            ]
          },
          "metadata": {
            "tags": []
          },
          "execution_count": 27
        }
      ]
    },
    {
      "cell_type": "code",
      "metadata": {
        "id": "PenMVSW52538",
        "colab_type": "code",
        "colab": {
          "base_uri": "https://localhost:8080/",
          "height": 52
        },
        "outputId": "f491eece-e599-4ab4-bc58-0f8c2448a3cd"
      },
      "source": [
        "y_pred = lr_cv.predict(X_test)\n",
        "y_pred_proba = lr_cv.predict_proba(X_test)\n",
        "\n",
        "print(accuracy_score(y_test, y_pred))\n",
        "print(log_loss(y_test, y_pred_proba))"
      ],
      "execution_count": 28,
      "outputs": [
        {
          "output_type": "stream",
          "text": [
            "0.9083329529721423\n",
            "0.22638783146485286\n"
          ],
          "name": "stdout"
        }
      ]
    },
    {
      "cell_type": "markdown",
      "metadata": {
        "id": "RNpDZIC6oxjF",
        "colab_type": "text"
      },
      "source": [
        "Hmmmm.. not bad for a casual run..!!"
      ]
    },
    {
      "cell_type": "code",
      "metadata": {
        "id": "YuDz79TC4eDV",
        "colab_type": "code",
        "colab": {}
      },
      "source": [
        ""
      ],
      "execution_count": 28,
      "outputs": []
    }
  ]
}