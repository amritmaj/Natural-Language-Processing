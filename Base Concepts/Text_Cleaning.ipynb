{
  "nbformat": 4,
  "nbformat_minor": 0,
  "metadata": {
    "colab": {
      "name": "Text_Cleaning.ipynb",
      "provenance": []
    },
    "kernelspec": {
      "name": "python3",
      "display_name": "Python 3"
    }
  },
  "cells": [
    {
      "cell_type": "code",
      "metadata": {
        "id": "an_7-prHCOLq",
        "colab_type": "code",
        "colab": {
          "base_uri": "https://localhost:8080/",
          "height": 34
        },
        "outputId": "75c649aa-b4e2-4850-869c-c25a311c0f1e"
      },
      "source": [
        "!pip install -q kaggle\n",
        "!mkdir /root/.kaggle/"
      ],
      "execution_count": 2,
      "outputs": [
        {
          "output_type": "stream",
          "text": [
            "mkdir: cannot create directory ‘/root/.kaggle/’: File exists\n"
          ],
          "name": "stdout"
        }
      ]
    },
    {
      "cell_type": "code",
      "metadata": {
        "id": "u70vutvcCi4E",
        "colab_type": "code",
        "colab": {}
      },
      "source": [
        "!cp /content/drive/My\\ Drive/Datasets/kaggle.json /root/.kaggle/"
      ],
      "execution_count": 3,
      "outputs": []
    },
    {
      "cell_type": "code",
      "metadata": {
        "id": "efMSgDOGCl8W",
        "colab_type": "code",
        "colab": {
          "base_uri": "https://localhost:8080/",
          "height": 34
        },
        "outputId": "d51f9ffe-e957-4ccd-844d-08465435f385"
      },
      "source": [
        "!kaggle datasets download -d snap/amazon-fine-food-reviews"
      ],
      "execution_count": 4,
      "outputs": [
        {
          "output_type": "stream",
          "text": [
            "amazon-fine-food-reviews.zip: Skipping, found more recently modified local copy (use --force to force download)\n"
          ],
          "name": "stdout"
        }
      ]
    },
    {
      "cell_type": "code",
      "metadata": {
        "id": "H4sZb5iCCpmz",
        "colab_type": "code",
        "colab": {
          "base_uri": "https://localhost:8080/",
          "height": 121
        },
        "outputId": "beed5ea1-6e60-479d-acb2-a86c034ef15f"
      },
      "source": [
        "!unzip amazon-fine-food-reviews.zip"
      ],
      "execution_count": 5,
      "outputs": [
        {
          "output_type": "stream",
          "text": [
            "Archive:  amazon-fine-food-reviews.zip\n",
            "replace Reviews.csv? [y]es, [n]o, [A]ll, [N]one, [r]ename: y\n",
            "  inflating: Reviews.csv             \n",
            "replace database.sqlite? [y]es, [n]o, [A]ll, [N]one, [r]ename: A\n",
            "  inflating: database.sqlite         \n",
            "  inflating: hashes.txt              \n"
          ],
          "name": "stdout"
        }
      ]
    },
    {
      "cell_type": "markdown",
      "metadata": {
        "id": "dfnUZadNDDqM",
        "colab_type": "text"
      },
      "source": [
        "# Importing Packages"
      ]
    },
    {
      "cell_type": "code",
      "metadata": {
        "id": "c4qSw-0OCte8",
        "colab_type": "code",
        "colab": {}
      },
      "source": [
        "import nltk\n",
        "import pandas as pd"
      ],
      "execution_count": 6,
      "outputs": []
    },
    {
      "cell_type": "markdown",
      "metadata": {
        "id": "7EL_clg6lne4",
        "colab_type": "text"
      },
      "source": [
        "# Loading data"
      ]
    },
    {
      "cell_type": "code",
      "metadata": {
        "id": "iVsBIRyzFoZd",
        "colab_type": "code",
        "colab": {}
      },
      "source": [
        "data = pd.read_csv('Reviews.csv')"
      ],
      "execution_count": 7,
      "outputs": []
    },
    {
      "cell_type": "code",
      "metadata": {
        "id": "c4i2dvqwF6bd",
        "colab_type": "code",
        "colab": {
          "base_uri": "https://localhost:8080/",
          "height": 678
        },
        "outputId": "2bbe1a53-318c-464f-b3f4-9f89e1a743a3"
      },
      "source": [
        "data.head()"
      ],
      "execution_count": 8,
      "outputs": [
        {
          "output_type": "execute_result",
          "data": {
            "text/html": [
              "<div>\n",
              "<style scoped>\n",
              "    .dataframe tbody tr th:only-of-type {\n",
              "        vertical-align: middle;\n",
              "    }\n",
              "\n",
              "    .dataframe tbody tr th {\n",
              "        vertical-align: top;\n",
              "    }\n",
              "\n",
              "    .dataframe thead th {\n",
              "        text-align: right;\n",
              "    }\n",
              "</style>\n",
              "<table border=\"1\" class=\"dataframe\">\n",
              "  <thead>\n",
              "    <tr style=\"text-align: right;\">\n",
              "      <th></th>\n",
              "      <th>Id</th>\n",
              "      <th>ProductId</th>\n",
              "      <th>UserId</th>\n",
              "      <th>ProfileName</th>\n",
              "      <th>HelpfulnessNumerator</th>\n",
              "      <th>HelpfulnessDenominator</th>\n",
              "      <th>Score</th>\n",
              "      <th>Time</th>\n",
              "      <th>Summary</th>\n",
              "      <th>Text</th>\n",
              "    </tr>\n",
              "  </thead>\n",
              "  <tbody>\n",
              "    <tr>\n",
              "      <th>0</th>\n",
              "      <td>1</td>\n",
              "      <td>B001E4KFG0</td>\n",
              "      <td>A3SGXH7AUHU8GW</td>\n",
              "      <td>delmartian</td>\n",
              "      <td>1</td>\n",
              "      <td>1</td>\n",
              "      <td>5</td>\n",
              "      <td>1303862400</td>\n",
              "      <td>Good Quality Dog Food</td>\n",
              "      <td>I have bought several of the Vitality canned d...</td>\n",
              "    </tr>\n",
              "    <tr>\n",
              "      <th>1</th>\n",
              "      <td>2</td>\n",
              "      <td>B00813GRG4</td>\n",
              "      <td>A1D87F6ZCVE5NK</td>\n",
              "      <td>dll pa</td>\n",
              "      <td>0</td>\n",
              "      <td>0</td>\n",
              "      <td>1</td>\n",
              "      <td>1346976000</td>\n",
              "      <td>Not as Advertised</td>\n",
              "      <td>Product arrived labeled as Jumbo Salted Peanut...</td>\n",
              "    </tr>\n",
              "    <tr>\n",
              "      <th>2</th>\n",
              "      <td>3</td>\n",
              "      <td>B000LQOCH0</td>\n",
              "      <td>ABXLMWJIXXAIN</td>\n",
              "      <td>Natalia Corres \"Natalia Corres\"</td>\n",
              "      <td>1</td>\n",
              "      <td>1</td>\n",
              "      <td>4</td>\n",
              "      <td>1219017600</td>\n",
              "      <td>\"Delight\" says it all</td>\n",
              "      <td>This is a confection that has been around a fe...</td>\n",
              "    </tr>\n",
              "    <tr>\n",
              "      <th>3</th>\n",
              "      <td>4</td>\n",
              "      <td>B000UA0QIQ</td>\n",
              "      <td>A395BORC6FGVXV</td>\n",
              "      <td>Karl</td>\n",
              "      <td>3</td>\n",
              "      <td>3</td>\n",
              "      <td>2</td>\n",
              "      <td>1307923200</td>\n",
              "      <td>Cough Medicine</td>\n",
              "      <td>If you are looking for the secret ingredient i...</td>\n",
              "    </tr>\n",
              "    <tr>\n",
              "      <th>4</th>\n",
              "      <td>5</td>\n",
              "      <td>B006K2ZZ7K</td>\n",
              "      <td>A1UQRSCLF8GW1T</td>\n",
              "      <td>Michael D. Bigham \"M. Wassir\"</td>\n",
              "      <td>0</td>\n",
              "      <td>0</td>\n",
              "      <td>5</td>\n",
              "      <td>1350777600</td>\n",
              "      <td>Great taffy</td>\n",
              "      <td>Great taffy at a great price.  There was a wid...</td>\n",
              "    </tr>\n",
              "  </tbody>\n",
              "</table>\n",
              "</div>"
            ],
            "text/plain": [
              "   Id  ...                                               Text\n",
              "0   1  ...  I have bought several of the Vitality canned d...\n",
              "1   2  ...  Product arrived labeled as Jumbo Salted Peanut...\n",
              "2   3  ...  This is a confection that has been around a fe...\n",
              "3   4  ...  If you are looking for the secret ingredient i...\n",
              "4   5  ...  Great taffy at a great price.  There was a wid...\n",
              "\n",
              "[5 rows x 10 columns]"
            ]
          },
          "metadata": {
            "tags": []
          },
          "execution_count": 8
        }
      ]
    },
    {
      "cell_type": "markdown",
      "metadata": {
        "id": "1Sz1SYQRDMn1",
        "colab_type": "text"
      },
      "source": [
        "# Tokenizing string"
      ]
    },
    {
      "cell_type": "code",
      "metadata": {
        "id": "HDBYwCG3F7n0",
        "colab_type": "code",
        "colab": {
          "base_uri": "https://localhost:8080/",
          "height": 121
        },
        "outputId": "3aa53f0e-f45f-423b-ad41-0e93725c0721"
      },
      "source": [
        "text = data['Text']\n",
        "\n",
        "text.head()"
      ],
      "execution_count": 9,
      "outputs": [
        {
          "output_type": "execute_result",
          "data": {
            "text/plain": [
              "0    I have bought several of the Vitality canned d...\n",
              "1    Product arrived labeled as Jumbo Salted Peanut...\n",
              "2    This is a confection that has been around a fe...\n",
              "3    If you are looking for the secret ingredient i...\n",
              "4    Great taffy at a great price.  There was a wid...\n",
              "Name: Text, dtype: object"
            ]
          },
          "metadata": {
            "tags": []
          },
          "execution_count": 9
        }
      ]
    },
    {
      "cell_type": "code",
      "metadata": {
        "id": "Rs1R0bWbqdCY",
        "colab_type": "code",
        "colab": {
          "base_uri": "https://localhost:8080/",
          "height": 52
        },
        "outputId": "d66ce48c-1d83-4a7e-d1ec-74e3d06fd462"
      },
      "source": [
        "%%time\n",
        "from nltk.tokenize import word_tokenize\n",
        "\n",
        "try:\n",
        "    tokenized_text = text.apply(word_tokenize)\n",
        "except:\n",
        "    nltk.download('punkt')\n",
        "    tokenized_text = text.apply(word_tokenize)\n",
        "\n",
        "tokenized_text"
      ],
      "execution_count": 10,
      "outputs": [
        {
          "output_type": "stream",
          "text": [
            "CPU times: user 6min 34s, sys: 4.86 s, total: 6min 39s\n",
            "Wall time: 6min 39s\n"
          ],
          "name": "stdout"
        }
      ]
    },
    {
      "cell_type": "code",
      "metadata": {
        "id": "dw1h6mi1sszv",
        "colab_type": "code",
        "colab": {
          "base_uri": "https://localhost:8080/",
          "height": 903
        },
        "outputId": "184bcd6a-0133-4cbe-a419-daafde55db0e"
      },
      "source": [
        "tokenized_text.iloc[0]"
      ],
      "execution_count": 11,
      "outputs": [
        {
          "output_type": "execute_result",
          "data": {
            "text/plain": [
              "['I',\n",
              " 'have',\n",
              " 'bought',\n",
              " 'several',\n",
              " 'of',\n",
              " 'the',\n",
              " 'Vitality',\n",
              " 'canned',\n",
              " 'dog',\n",
              " 'food',\n",
              " 'products',\n",
              " 'and',\n",
              " 'have',\n",
              " 'found',\n",
              " 'them',\n",
              " 'all',\n",
              " 'to',\n",
              " 'be',\n",
              " 'of',\n",
              " 'good',\n",
              " 'quality',\n",
              " '.',\n",
              " 'The',\n",
              " 'product',\n",
              " 'looks',\n",
              " 'more',\n",
              " 'like',\n",
              " 'a',\n",
              " 'stew',\n",
              " 'than',\n",
              " 'a',\n",
              " 'processed',\n",
              " 'meat',\n",
              " 'and',\n",
              " 'it',\n",
              " 'smells',\n",
              " 'better',\n",
              " '.',\n",
              " 'My',\n",
              " 'Labrador',\n",
              " 'is',\n",
              " 'finicky',\n",
              " 'and',\n",
              " 'she',\n",
              " 'appreciates',\n",
              " 'this',\n",
              " 'product',\n",
              " 'better',\n",
              " 'than',\n",
              " 'most',\n",
              " '.']"
            ]
          },
          "metadata": {
            "tags": []
          },
          "execution_count": 11
        }
      ]
    },
    {
      "cell_type": "markdown",
      "metadata": {
        "id": "ECL6hEsKrclt",
        "colab_type": "text"
      },
      "source": [
        "We could have just as easily used $\\text{text.iloc[i].split(\" \")}$"
      ]
    },
    {
      "cell_type": "code",
      "metadata": {
        "id": "CJF-c0QKs3jo",
        "colab_type": "code",
        "colab": {
          "base_uri": "https://localhost:8080/",
          "height": 52
        },
        "outputId": "bac23f50-da3f-4cd4-ab75-93ba8edde39f"
      },
      "source": [
        "%%time\n",
        "from gensim.utils import simple_preprocess\n",
        "\n",
        "gensim_tokenized = text.apply(simple_preprocess)\n",
        "\n",
        "gensim_tokenized"
      ],
      "execution_count": 12,
      "outputs": [
        {
          "output_type": "stream",
          "text": [
            "CPU times: user 51.6 s, sys: 3.04 s, total: 54.6 s\n",
            "Wall time: 54.9 s\n"
          ],
          "name": "stdout"
        }
      ]
    },
    {
      "cell_type": "code",
      "metadata": {
        "id": "XiYCiSaHttui",
        "colab_type": "code",
        "colab": {
          "base_uri": "https://localhost:8080/",
          "height": 799
        },
        "outputId": "dfd14afe-9c09-4234-c0a3-829fcaabee74"
      },
      "source": [
        "gensim_tokenized.iloc[0]"
      ],
      "execution_count": 13,
      "outputs": [
        {
          "output_type": "execute_result",
          "data": {
            "text/plain": [
              "['have',\n",
              " 'bought',\n",
              " 'several',\n",
              " 'of',\n",
              " 'the',\n",
              " 'vitality',\n",
              " 'canned',\n",
              " 'dog',\n",
              " 'food',\n",
              " 'products',\n",
              " 'and',\n",
              " 'have',\n",
              " 'found',\n",
              " 'them',\n",
              " 'all',\n",
              " 'to',\n",
              " 'be',\n",
              " 'of',\n",
              " 'good',\n",
              " 'quality',\n",
              " 'the',\n",
              " 'product',\n",
              " 'looks',\n",
              " 'more',\n",
              " 'like',\n",
              " 'stew',\n",
              " 'than',\n",
              " 'processed',\n",
              " 'meat',\n",
              " 'and',\n",
              " 'it',\n",
              " 'smells',\n",
              " 'better',\n",
              " 'my',\n",
              " 'labrador',\n",
              " 'is',\n",
              " 'finicky',\n",
              " 'and',\n",
              " 'she',\n",
              " 'appreciates',\n",
              " 'this',\n",
              " 'product',\n",
              " 'better',\n",
              " 'than',\n",
              " 'most']"
            ]
          },
          "metadata": {
            "tags": []
          },
          "execution_count": 13
        }
      ]
    },
    {
      "cell_type": "markdown",
      "metadata": {
        "id": "Tojzgaw7uxav",
        "colab_type": "text"
      },
      "source": [
        "As you can see, gensim's simple_preprocess() not only tokenizes but also lower cases any upper case characters and removes punctuation marks."
      ]
    },
    {
      "cell_type": "markdown",
      "metadata": {
        "id": "m1JEIQQpvF3z",
        "colab_type": "text"
      },
      "source": [
        "# Removing Stop-words"
      ]
    },
    {
      "cell_type": "code",
      "metadata": {
        "id": "CmulAla-HBjA",
        "colab_type": "code",
        "colab": {}
      },
      "source": [
        "from nltk.corpus import stopwords"
      ],
      "execution_count": 14,
      "outputs": []
    },
    {
      "cell_type": "code",
      "metadata": {
        "id": "V1saWfeLDMAh",
        "colab_type": "code",
        "colab": {
          "base_uri": "https://localhost:8080/",
          "height": 54
        },
        "outputId": "7681e775-b3aa-415b-cc91-d3efe16527a4"
      },
      "source": [
        "try:\n",
        "    print( stopwords.words('english'))\n",
        "except:\n",
        "    nltk.download('stopwords')\n",
        "    print( stopwords.words('english'))"
      ],
      "execution_count": 15,
      "outputs": [
        {
          "output_type": "stream",
          "text": [
            "['i', 'me', 'my', 'myself', 'we', 'our', 'ours', 'ourselves', 'you', \"you're\", \"you've\", \"you'll\", \"you'd\", 'your', 'yours', 'yourself', 'yourselves', 'he', 'him', 'his', 'himself', 'she', \"she's\", 'her', 'hers', 'herself', 'it', \"it's\", 'its', 'itself', 'they', 'them', 'their', 'theirs', 'themselves', 'what', 'which', 'who', 'whom', 'this', 'that', \"that'll\", 'these', 'those', 'am', 'is', 'are', 'was', 'were', 'be', 'been', 'being', 'have', 'has', 'had', 'having', 'do', 'does', 'did', 'doing', 'a', 'an', 'the', 'and', 'but', 'if', 'or', 'because', 'as', 'until', 'while', 'of', 'at', 'by', 'for', 'with', 'about', 'against', 'between', 'into', 'through', 'during', 'before', 'after', 'above', 'below', 'to', 'from', 'up', 'down', 'in', 'out', 'on', 'off', 'over', 'under', 'again', 'further', 'then', 'once', 'here', 'there', 'when', 'where', 'why', 'how', 'all', 'any', 'both', 'each', 'few', 'more', 'most', 'other', 'some', 'such', 'no', 'nor', 'not', 'only', 'own', 'same', 'so', 'than', 'too', 'very', 's', 't', 'can', 'will', 'just', 'don', \"don't\", 'should', \"should've\", 'now', 'd', 'll', 'm', 'o', 're', 've', 'y', 'ain', 'aren', \"aren't\", 'couldn', \"couldn't\", 'didn', \"didn't\", 'doesn', \"doesn't\", 'hadn', \"hadn't\", 'hasn', \"hasn't\", 'haven', \"haven't\", 'isn', \"isn't\", 'ma', 'mightn', \"mightn't\", 'mustn', \"mustn't\", 'needn', \"needn't\", 'shan', \"shan't\", 'shouldn', \"shouldn't\", 'wasn', \"wasn't\", 'weren', \"weren't\", 'won', \"won't\", 'wouldn', \"wouldn't\"]\n"
          ],
          "name": "stdout"
        }
      ]
    },
    {
      "cell_type": "markdown",
      "metadata": {
        "id": "f_jIcF8pDQEH",
        "colab_type": "text"
      },
      "source": [
        ""
      ]
    },
    {
      "cell_type": "code",
      "metadata": {
        "id": "RoBsFSO2DPvv",
        "colab_type": "code",
        "colab": {
          "base_uri": "https://localhost:8080/",
          "height": 34
        },
        "outputId": "07d15533-9be1-461c-8b5e-38b8065f4d49"
      },
      "source": [
        "'not' in stopwords.words('english')"
      ],
      "execution_count": 16,
      "outputs": [
        {
          "output_type": "execute_result",
          "data": {
            "text/plain": [
              "True"
            ]
          },
          "metadata": {
            "tags": []
          },
          "execution_count": 16
        }
      ]
    },
    {
      "cell_type": "markdown",
      "metadata": {
        "id": "YaALuDn4HLV1",
        "colab_type": "text"
      },
      "source": [
        "Note that this also takes out such words like 'not'<br>\n",
        "which may be crucial for sentiment analysis<br>\n",
        "or building context.\n",
        "\n",
        "Likewise there can be such words<br>\n",
        "which would help in building necessary context for the given task.<br> \n",
        "\n",
        "So be wary for that."
      ]
    },
    {
      "cell_type": "code",
      "metadata": {
        "id": "4wfwpmHBKsu7",
        "colab_type": "code",
        "colab": {}
      },
      "source": [
        "stopwords_list = stopwords.words('english')"
      ],
      "execution_count": 17,
      "outputs": []
    },
    {
      "cell_type": "code",
      "metadata": {
        "id": "9yvvHG9hGDHQ",
        "colab_type": "code",
        "colab": {
          "base_uri": "https://localhost:8080/",
          "height": 52
        },
        "outputId": "f1a98ce6-b812-4ff0-e2e6-6de02ca55eb0"
      },
      "source": [
        "%%time\n",
        "func = lambda x: [token for token in x if token not in stopwords_list] \n",
        "\n",
        "text_wo_sw = gensim_tokenized.apply(func)"
      ],
      "execution_count": 18,
      "outputs": [
        {
          "output_type": "stream",
          "text": [
            "CPU times: user 1min 9s, sys: 566 ms, total: 1min 9s\n",
            "Wall time: 1min 9s\n"
          ],
          "name": "stdout"
        }
      ]
    },
    {
      "cell_type": "code",
      "metadata": {
        "id": "CPexpMS0RJs-",
        "colab_type": "code",
        "colab": {
          "base_uri": "https://localhost:8080/",
          "height": 121
        },
        "outputId": "b5c53ca1-1fce-4401-e1df-724ab0955038"
      },
      "source": [
        "text_wo_sw.head()"
      ],
      "execution_count": 19,
      "outputs": [
        {
          "output_type": "execute_result",
          "data": {
            "text/plain": [
              "0    [bought, several, vitality, canned, dog, food,...\n",
              "1    [product, arrived, labeled, jumbo, salted, pea...\n",
              "2    [confection, around, centuries, light, pillowy...\n",
              "3    [looking, secret, ingredient, robitussin, beli...\n",
              "4    [great, taffy, great, price, wide, assortment,...\n",
              "Name: Text, dtype: object"
            ]
          },
          "metadata": {
            "tags": []
          },
          "execution_count": 19
        }
      ]
    },
    {
      "cell_type": "markdown",
      "metadata": {
        "id": "e3uENXSzIqbv",
        "colab_type": "text"
      },
      "source": [
        "gensim has a an alternative to nltk's..."
      ]
    },
    {
      "cell_type": "code",
      "metadata": {
        "id": "3vrWGVIjIBVb",
        "colab_type": "code",
        "colab": {}
      },
      "source": [
        "from gensim.parsing.preprocessing import remove_stopwords"
      ],
      "execution_count": 20,
      "outputs": []
    },
    {
      "cell_type": "code",
      "metadata": {
        "id": "9QKwmGNHIgFu",
        "colab_type": "code",
        "colab": {
          "base_uri": "https://localhost:8080/",
          "height": 52
        },
        "outputId": "acf84ee1-a764-44c5-c1ec-daf12fc15a2d"
      },
      "source": [
        "%%time\n",
        "func = lambda x: simple_preprocess( remove_stopwords( \" \".join(x)))\n",
        "\n",
        "text_wo_sw_gen = gensim_tokenized.apply(func)"
      ],
      "execution_count": 21,
      "outputs": [
        {
          "output_type": "stream",
          "text": [
            "CPU times: user 36.2 s, sys: 2.08 s, total: 38.2 s\n",
            "Wall time: 38.3 s\n"
          ],
          "name": "stdout"
        }
      ]
    },
    {
      "cell_type": "markdown",
      "metadata": {
        "id": "lSqb53bpyttr",
        "colab_type": "text"
      },
      "source": [
        "So the remove_stopwords() works on untokenized string...<br>\n",
        "therefore when using this function, apply it before simple_preprocess().."
      ]
    },
    {
      "cell_type": "code",
      "metadata": {
        "id": "g1c0GQXnyaa0",
        "colab_type": "code",
        "colab": {
          "base_uri": "https://localhost:8080/",
          "height": 382
        },
        "outputId": "301187ef-7f2d-4b4a-a025-0dbd4d7dcf33"
      },
      "source": [
        "text_wo_sw_gen.iloc[0]"
      ],
      "execution_count": 22,
      "outputs": [
        {
          "output_type": "execute_result",
          "data": {
            "text/plain": [
              "['bought',\n",
              " 'vitality',\n",
              " 'canned',\n",
              " 'dog',\n",
              " 'food',\n",
              " 'products',\n",
              " 'good',\n",
              " 'quality',\n",
              " 'product',\n",
              " 'looks',\n",
              " 'like',\n",
              " 'stew',\n",
              " 'processed',\n",
              " 'meat',\n",
              " 'smells',\n",
              " 'better',\n",
              " 'labrador',\n",
              " 'finicky',\n",
              " 'appreciates',\n",
              " 'product',\n",
              " 'better']"
            ]
          },
          "metadata": {
            "tags": []
          },
          "execution_count": 22
        }
      ]
    },
    {
      "cell_type": "markdown",
      "metadata": {
        "id": "fOOqVSglIARu",
        "colab_type": "text"
      },
      "source": [
        "# Stemming or Lemmatization"
      ]
    },
    {
      "cell_type": "code",
      "metadata": {
        "id": "SoTO-eCoGitF",
        "colab_type": "code",
        "colab": {}
      },
      "source": [
        "from nltk.stem.porter import PorterStemmer"
      ],
      "execution_count": 23,
      "outputs": []
    },
    {
      "cell_type": "code",
      "metadata": {
        "id": "y0_JDUrJwMqc",
        "colab_type": "code",
        "colab": {
          "base_uri": "https://localhost:8080/",
          "height": 52
        },
        "outputId": "b36a7179-b193-46a4-b46f-1ced8dd41796"
      },
      "source": [
        "%%time\n",
        "stemmer = PorterStemmer()\n",
        "\n",
        "func = lambda x: [stemmer.stem(token) for token in x]\n",
        "\n",
        "stemmed_text = text_wo_sw.apply(func)"
      ],
      "execution_count": 24,
      "outputs": [
        {
          "output_type": "stream",
          "text": [
            "CPU times: user 7min 6s, sys: 3.54 s, total: 7min 9s\n",
            "Wall time: 7min 10s\n"
          ],
          "name": "stdout"
        }
      ]
    },
    {
      "cell_type": "code",
      "metadata": {
        "id": "MLaAyqyC0AVR",
        "colab_type": "code",
        "colab": {
          "base_uri": "https://localhost:8080/",
          "height": 121
        },
        "outputId": "1adf91a8-5249-4d94-a7a6-5b466ffb1717"
      },
      "source": [
        "stemmed_text.head()"
      ],
      "execution_count": 25,
      "outputs": [
        {
          "output_type": "execute_result",
          "data": {
            "text/plain": [
              "0    [bought, sever, vital, can, dog, food, product...\n",
              "1    [product, arriv, label, jumbo, salt, peanut, p...\n",
              "2    [confect, around, centuri, light, pillowi, cit...\n",
              "3    [look, secret, ingredi, robitussin, believ, fo...\n",
              "4    [great, taffi, great, price, wide, assort, yum...\n",
              "Name: Text, dtype: object"
            ]
          },
          "metadata": {
            "tags": []
          },
          "execution_count": 25
        }
      ]
    },
    {
      "cell_type": "markdown",
      "metadata": {
        "id": "Whyn0gU32EXU",
        "colab_type": "text"
      },
      "source": [
        "Although 'vitality' turned to 'vital',<br>\n",
        "and 'canned' turned to 'can',<br>\n",
        "there are some words which got messed up:<br>\n",
        "'taffy' turned to 'taffi', 'arrived' turned to 'arriv'..\n",
        "\n",
        "So stemming works fine, if not good enough.."
      ]
    },
    {
      "cell_type": "code",
      "metadata": {
        "id": "G9zwr4Fh0EV0",
        "colab_type": "code",
        "colab": {}
      },
      "source": [
        "from gensim.parsing.porter import PorterStemmer"
      ],
      "execution_count": 26,
      "outputs": []
    },
    {
      "cell_type": "code",
      "metadata": {
        "id": "TMLi5wjC0Snx",
        "colab_type": "code",
        "colab": {
          "base_uri": "https://localhost:8080/",
          "height": 52
        },
        "outputId": "7c513ba4-6ec2-47ce-c318-9b08b85dc7c5"
      },
      "source": [
        "%%time\n",
        "func = lambda x: [PorterStemmer().stem(token) for token in x]\n",
        "\n",
        "stemmed_text_gensim = text_wo_sw.apply(func)"
      ],
      "execution_count": 27,
      "outputs": [
        {
          "output_type": "stream",
          "text": [
            "CPU times: user 2min 37s, sys: 4.38 s, total: 2min 41s\n",
            "Wall time: 2min 42s\n"
          ],
          "name": "stdout"
        }
      ]
    },
    {
      "cell_type": "code",
      "metadata": {
        "id": "UViZsyfd1Vrp",
        "colab_type": "code",
        "colab": {
          "base_uri": "https://localhost:8080/",
          "height": 121
        },
        "outputId": "bfb905ac-a6c9-47d4-a355-d1e039275e0f"
      },
      "source": [
        "stemmed_text_gensim.head()"
      ],
      "execution_count": 28,
      "outputs": [
        {
          "output_type": "execute_result",
          "data": {
            "text/plain": [
              "0    [bought, sever, vital, can, dog, food, product...\n",
              "1    [product, arriv, label, jumbo, salt, peanut, p...\n",
              "2    [confect, around, centuri, light, pillowi, cit...\n",
              "3    [look, secret, ingredi, robitussin, believ, fo...\n",
              "4    [great, taffi, great, price, wide, assort, yum...\n",
              "Name: Text, dtype: object"
            ]
          },
          "metadata": {
            "tags": []
          },
          "execution_count": 28
        }
      ]
    },
    {
      "cell_type": "code",
      "metadata": {
        "id": "J0YjhWNFDHaB",
        "colab_type": "code",
        "colab": {}
      },
      "source": [
        "from nltk.stem import WordNetLemmatizer"
      ],
      "execution_count": 39,
      "outputs": []
    },
    {
      "cell_type": "code",
      "metadata": {
        "id": "5-I5wgkGGe68",
        "colab_type": "code",
        "colab": {
          "base_uri": "https://localhost:8080/",
          "height": 86
        },
        "outputId": "58718fed-8411-4752-f612-e106f0a44e6b"
      },
      "source": [
        "%%time\n",
        "lemmatizer = WordNetLemmatizer()\n",
        "\n",
        "func = lambda x: [lemmatizer.lemmatize(token) for token in x]\n",
        "try:\n",
        "    lemma_text = text_wo_sw.apply(func)\n",
        "except:\n",
        "    nltk.download('wordnet')\n",
        "    lemma_text = text_wo_sw.apply(func)"
      ],
      "execution_count": 40,
      "outputs": [
        {
          "output_type": "stream",
          "text": [
            "[nltk_data] Downloading package wordnet to /root/nltk_data...\n",
            "[nltk_data]   Unzipping corpora/wordnet.zip.\n",
            "CPU times: user 1min 35s, sys: 1.14 s, total: 1min 36s\n",
            "Wall time: 1min 37s\n"
          ],
          "name": "stdout"
        }
      ]
    },
    {
      "cell_type": "code",
      "metadata": {
        "id": "WZfgL0uGGlbX",
        "colab_type": "code",
        "colab": {
          "base_uri": "https://localhost:8080/",
          "height": 121
        },
        "outputId": "7dbb50e6-13a3-41e9-f3d2-306b5a727ff4"
      },
      "source": [
        "lemma_text.head()"
      ],
      "execution_count": 41,
      "outputs": [
        {
          "output_type": "execute_result",
          "data": {
            "text/plain": [
              "0    [bought, several, vitality, canned, dog, food,...\n",
              "1    [product, arrived, labeled, jumbo, salted, pea...\n",
              "2    [confection, around, century, light, pillowy, ...\n",
              "3    [looking, secret, ingredient, robitussin, beli...\n",
              "4    [great, taffy, great, price, wide, assortment,...\n",
              "Name: Text, dtype: object"
            ]
          },
          "metadata": {
            "tags": []
          },
          "execution_count": 41
        }
      ]
    },
    {
      "cell_type": "markdown",
      "metadata": {
        "id": "BFCBvzz-He4O",
        "colab_type": "text"
      },
      "source": [
        "lemmatizing gives better result than stemming"
      ]
    },
    {
      "cell_type": "code",
      "metadata": {
        "id": "74B8FFDdIMVy",
        "colab_type": "code",
        "colab": {}
      },
      "source": [
        ""
      ],
      "execution_count": 28,
      "outputs": []
    }
  ]
}